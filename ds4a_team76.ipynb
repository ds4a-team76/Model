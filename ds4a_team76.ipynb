{
  "nbformat": 4,
  "nbformat_minor": 0,
  "metadata": {
    "colab": {
      "name": "ds4a-team76.ipynb",
      "provenance": [],
      "collapsed_sections": [],
      "toc_visible": true
    },
    "kernelspec": {
      "name": "python3",
      "display_name": "Python 3"
    },
    "accelerator": "GPU"
  },
  "cells": [
    {
      "cell_type": "code",
      "metadata": {
        "id": "nsBgXS9r8Mw8"
      },
      "source": [
        "# Load all needed libraries\n",
        "import pandas as pd\n",
        "import numpy as np\n",
        "import matplotlib.pyplot as plt\n",
        "import json\n",
        "import os\n",
        "from tqdm import tqdm, tqdm_notebook\n",
        "import random\n",
        "import pandas as pd\n",
        "import tensorflow as tf\n",
        "from tensorflow.keras.models import Sequential, Model\n",
        "from tensorflow.keras.layers import *\n",
        "from tensorflow.keras.optimizers import *\n",
        "from tensorflow.keras.applications import *\n",
        "from tensorflow.keras.callbacks import *\n",
        "from tensorflow.keras.initializers import *\n",
        "from tensorflow.keras.preprocessing.image import ImageDataGenerator\n",
        "from numpy.random import seed\n",
        "from sklearn.metrics import *\n",
        "import seaborn as sns\n",
        "from progressbar import Bar\n",
        "seed(1)\n"
      ],
      "execution_count": null,
      "outputs": []
    },
    {
      "cell_type": "code",
      "metadata": {
        "id": "hQdjGHoX538x"
      },
      "source": [
        ""
      ],
      "execution_count": null,
      "outputs": []
    },
    {
      "cell_type": "markdown",
      "metadata": {
        "id": "w7V4wcoXZpgc"
      },
      "source": [
        "#Data Set \n",
        "\n",
        "The project goal is to classify routes of bus trips. The idea was to generate many images of each route. Then divide the images generated in train/test data sets. \n",
        "\n",
        "\n",
        "Currently our images are stored on Google Drive, and this notebook connects directly to google drive load the images and train the model"
      ]
    },
    {
      "cell_type": "code",
      "metadata": {
        "id": "zKRcXvIO1uXp",
        "colab": {
          "base_uri": "https://localhost:8080/"
        },
        "outputId": "6e584b48-273e-489e-b2d0-b51cf24b9b77"
      },
      "source": [
        "from google.colab import drive\n",
        "drive.mount('/content/drive')"
      ],
      "execution_count": null,
      "outputs": [
        {
          "output_type": "stream",
          "text": [
            "Mounted at /content/drive\n"
          ],
          "name": "stdout"
        }
      ]
    },
    {
      "cell_type": "code",
      "metadata": {
        "id": "wjG9XhCsXHqm"
      },
      "source": [
        "# dataset paths\n",
        "dir = \"/content/drive/Shared drives/DS4A-T76/DS4A-Team76\"\n",
        "train_dir = dir + '/data/dataset/dataset_split/train'\n",
        "test_dir = dir + '/data/dataset/dataset_split/test'\n",
        "csv_path = 'cnt_images.csv'"
      ],
      "execution_count": null,
      "outputs": []
    },
    {
      "cell_type": "markdown",
      "metadata": {
        "id": "z-k07L58vU-j"
      },
      "source": [
        "##Load Dataset"
      ]
    },
    {
      "cell_type": "markdown",
      "metadata": {
        "id": "6U305Z0f0pFj"
      },
      "source": [
        "Dataset Dataframe"
      ]
    },
    {
      "cell_type": "code",
      "metadata": {
        "id": "9-37j6eWEvgB",
        "colab": {
          "base_uri": "https://localhost:8080/",
          "height": 587
        },
        "outputId": "0d44f155-dafb-44a7-aeab-ee3b522e0f49"
      },
      "source": [
        "count_csv = pd.read_csv(csv_path)\n",
        "count_csv.route = count_csv.route.apply(lambda x: x[2:])\n",
        "count_csv"
      ],
      "execution_count": null,
      "outputs": [
        {
          "output_type": "execute_result",
          "data": {
            "text/html": [
              "<div>\n",
              "<style scoped>\n",
              "    .dataframe tbody tr th:only-of-type {\n",
              "        vertical-align: middle;\n",
              "    }\n",
              "\n",
              "    .dataframe tbody tr th {\n",
              "        vertical-align: top;\n",
              "    }\n",
              "\n",
              "    .dataframe thead th {\n",
              "        text-align: right;\n",
              "    }\n",
              "</style>\n",
              "<table border=\"1\" class=\"dataframe\">\n",
              "  <thead>\n",
              "    <tr style=\"text-align: right;\">\n",
              "      <th></th>\n",
              "      <th>route</th>\n",
              "      <th>cnt</th>\n",
              "    </tr>\n",
              "  </thead>\n",
              "  <tbody>\n",
              "    <tr>\n",
              "      <th>0</th>\n",
              "      <td>295</td>\n",
              "      <td>108</td>\n",
              "    </tr>\n",
              "    <tr>\n",
              "      <th>1</th>\n",
              "      <td>277</td>\n",
              "      <td>153</td>\n",
              "    </tr>\n",
              "    <tr>\n",
              "      <th>2</th>\n",
              "      <td>653</td>\n",
              "      <td>31</td>\n",
              "    </tr>\n",
              "    <tr>\n",
              "      <th>3</th>\n",
              "      <td>286</td>\n",
              "      <td>1</td>\n",
              "    </tr>\n",
              "    <tr>\n",
              "      <th>4</th>\n",
              "      <td>280</td>\n",
              "      <td>125</td>\n",
              "    </tr>\n",
              "    <tr>\n",
              "      <th>5</th>\n",
              "      <td>281</td>\n",
              "      <td>44</td>\n",
              "    </tr>\n",
              "    <tr>\n",
              "      <th>6</th>\n",
              "      <td>655</td>\n",
              "      <td>187</td>\n",
              "    </tr>\n",
              "    <tr>\n",
              "      <th>7</th>\n",
              "      <td>585</td>\n",
              "      <td>14</td>\n",
              "    </tr>\n",
              "    <tr>\n",
              "      <th>8</th>\n",
              "      <td>169</td>\n",
              "      <td>64</td>\n",
              "    </tr>\n",
              "    <tr>\n",
              "      <th>9</th>\n",
              "      <td>656</td>\n",
              "      <td>31</td>\n",
              "    </tr>\n",
              "    <tr>\n",
              "      <th>10</th>\n",
              "      <td>172</td>\n",
              "      <td>126</td>\n",
              "    </tr>\n",
              "    <tr>\n",
              "      <th>11</th>\n",
              "      <td>634</td>\n",
              "      <td>91</td>\n",
              "    </tr>\n",
              "    <tr>\n",
              "      <th>12</th>\n",
              "      <td>135</td>\n",
              "      <td>1</td>\n",
              "    </tr>\n",
              "    <tr>\n",
              "      <th>13</th>\n",
              "      <td>272</td>\n",
              "      <td>124</td>\n",
              "    </tr>\n",
              "    <tr>\n",
              "      <th>14</th>\n",
              "      <td>170</td>\n",
              "      <td>82</td>\n",
              "    </tr>\n",
              "    <tr>\n",
              "      <th>15</th>\n",
              "      <td>0</td>\n",
              "      <td>57</td>\n",
              "    </tr>\n",
              "    <tr>\n",
              "      <th>16</th>\n",
              "      <td>654</td>\n",
              "      <td>129</td>\n",
              "    </tr>\n",
              "    <tr>\n",
              "      <th>17</th>\n",
              "      <td>584</td>\n",
              "      <td>17</td>\n",
              "    </tr>\n",
              "  </tbody>\n",
              "</table>\n",
              "</div>"
            ],
            "text/plain": [
              "   route  cnt\n",
              "0    295  108\n",
              "1    277  153\n",
              "2    653   31\n",
              "3    286    1\n",
              "4    280  125\n",
              "5    281   44\n",
              "6    655  187\n",
              "7    585   14\n",
              "8    169   64\n",
              "9    656   31\n",
              "10   172  126\n",
              "11   634   91\n",
              "12   135    1\n",
              "13   272  124\n",
              "14   170   82\n",
              "15     0   57\n",
              "16   654  129\n",
              "17   584   17"
            ]
          },
          "metadata": {
            "tags": []
          },
          "execution_count": 4
        }
      ]
    },
    {
      "cell_type": "code",
      "metadata": {
        "id": "Wk0trIXuBwcP",
        "colab": {
          "base_uri": "https://localhost:8080/"
        },
        "outputId": "dffbfef4-0531-42e3-9a29-238427fc1866"
      },
      "source": [
        "count_csv.columns"
      ],
      "execution_count": null,
      "outputs": [
        {
          "output_type": "execute_result",
          "data": {
            "text/plain": [
              "Index(['route', 'cnt'], dtype='object')"
            ]
          },
          "metadata": {
            "tags": []
          },
          "execution_count": 5
        }
      ]
    },
    {
      "cell_type": "markdown",
      "metadata": {
        "id": "r496l3na2dTp"
      },
      "source": [
        "### Weights \n",
        "\n",
        "In order to balance the data, due to the fact that there is\n",
        "a significant difference between the number of paintings per\n",
        "author, weights were assigned to each class\n",
        "(route) using an inverse relationship between the number of\n",
        "images per route, so a class corresponding to a route with\n",
        "a small number of paintings have bigger weight than a class\n",
        "corresponding to a route with a large number of paintings."
      ]
    },
    {
      "cell_type": "code",
      "metadata": {
        "id": "pKVrNpif3zZ0",
        "colab": {
          "base_uri": "https://localhost:8080/",
          "height": 497
        },
        "outputId": "99dff543-ff65-4218-a694-da569af012d1"
      },
      "source": [
        "# Sort artists by number of paintings\n",
        "routes = count_csv.sort_values(by=['cnt'], ascending=False)\n",
        "\n",
        "# Create a dataframe with artists having more than 70 paintings\n",
        "routes_top = routes[routes['cnt'] >= 10 ].reset_index(drop=True)\n",
        "routes_top = routes_top[routes_top['route'] != \"0\" ].reset_index(drop=True)\n",
        "\n",
        "\n",
        "\n",
        "# Add class weights \n",
        "routes_top['class_weight'] = routes_top.cnt.sum() / (routes_top.shape[0] * routes_top.cnt)\n",
        "\n",
        "\n",
        "routes_top"
      ],
      "execution_count": null,
      "outputs": [
        {
          "output_type": "execute_result",
          "data": {
            "text/html": [
              "<div>\n",
              "<style scoped>\n",
              "    .dataframe tbody tr th:only-of-type {\n",
              "        vertical-align: middle;\n",
              "    }\n",
              "\n",
              "    .dataframe tbody tr th {\n",
              "        vertical-align: top;\n",
              "    }\n",
              "\n",
              "    .dataframe thead th {\n",
              "        text-align: right;\n",
              "    }\n",
              "</style>\n",
              "<table border=\"1\" class=\"dataframe\">\n",
              "  <thead>\n",
              "    <tr style=\"text-align: right;\">\n",
              "      <th></th>\n",
              "      <th>route</th>\n",
              "      <th>cnt</th>\n",
              "      <th>class_weight</th>\n",
              "    </tr>\n",
              "  </thead>\n",
              "  <tbody>\n",
              "    <tr>\n",
              "      <th>0</th>\n",
              "      <td>655</td>\n",
              "      <td>187</td>\n",
              "      <td>0.472727</td>\n",
              "    </tr>\n",
              "    <tr>\n",
              "      <th>1</th>\n",
              "      <td>277</td>\n",
              "      <td>153</td>\n",
              "      <td>0.577778</td>\n",
              "    </tr>\n",
              "    <tr>\n",
              "      <th>2</th>\n",
              "      <td>654</td>\n",
              "      <td>129</td>\n",
              "      <td>0.685271</td>\n",
              "    </tr>\n",
              "    <tr>\n",
              "      <th>3</th>\n",
              "      <td>172</td>\n",
              "      <td>126</td>\n",
              "      <td>0.701587</td>\n",
              "    </tr>\n",
              "    <tr>\n",
              "      <th>4</th>\n",
              "      <td>280</td>\n",
              "      <td>125</td>\n",
              "      <td>0.707200</td>\n",
              "    </tr>\n",
              "    <tr>\n",
              "      <th>5</th>\n",
              "      <td>272</td>\n",
              "      <td>124</td>\n",
              "      <td>0.712903</td>\n",
              "    </tr>\n",
              "    <tr>\n",
              "      <th>6</th>\n",
              "      <td>295</td>\n",
              "      <td>108</td>\n",
              "      <td>0.818519</td>\n",
              "    </tr>\n",
              "    <tr>\n",
              "      <th>7</th>\n",
              "      <td>634</td>\n",
              "      <td>91</td>\n",
              "      <td>0.971429</td>\n",
              "    </tr>\n",
              "    <tr>\n",
              "      <th>8</th>\n",
              "      <td>170</td>\n",
              "      <td>82</td>\n",
              "      <td>1.078049</td>\n",
              "    </tr>\n",
              "    <tr>\n",
              "      <th>9</th>\n",
              "      <td>169</td>\n",
              "      <td>64</td>\n",
              "      <td>1.381250</td>\n",
              "    </tr>\n",
              "    <tr>\n",
              "      <th>10</th>\n",
              "      <td>281</td>\n",
              "      <td>44</td>\n",
              "      <td>2.009091</td>\n",
              "    </tr>\n",
              "    <tr>\n",
              "      <th>11</th>\n",
              "      <td>656</td>\n",
              "      <td>31</td>\n",
              "      <td>2.851613</td>\n",
              "    </tr>\n",
              "    <tr>\n",
              "      <th>12</th>\n",
              "      <td>653</td>\n",
              "      <td>31</td>\n",
              "      <td>2.851613</td>\n",
              "    </tr>\n",
              "    <tr>\n",
              "      <th>13</th>\n",
              "      <td>584</td>\n",
              "      <td>17</td>\n",
              "      <td>5.200000</td>\n",
              "    </tr>\n",
              "    <tr>\n",
              "      <th>14</th>\n",
              "      <td>585</td>\n",
              "      <td>14</td>\n",
              "      <td>6.314286</td>\n",
              "    </tr>\n",
              "  </tbody>\n",
              "</table>\n",
              "</div>"
            ],
            "text/plain": [
              "   route  cnt  class_weight\n",
              "0    655  187      0.472727\n",
              "1    277  153      0.577778\n",
              "2    654  129      0.685271\n",
              "3    172  126      0.701587\n",
              "4    280  125      0.707200\n",
              "5    272  124      0.712903\n",
              "6    295  108      0.818519\n",
              "7    634   91      0.971429\n",
              "8    170   82      1.078049\n",
              "9    169   64      1.381250\n",
              "10   281   44      2.009091\n",
              "11   656   31      2.851613\n",
              "12   653   31      2.851613\n",
              "13   584   17      5.200000\n",
              "14   585   14      6.314286"
            ]
          },
          "metadata": {
            "tags": []
          },
          "execution_count": 6
        }
      ]
    },
    {
      "cell_type": "code",
      "metadata": {
        "id": "qC8htu266TC0",
        "colab": {
          "base_uri": "https://localhost:8080/"
        },
        "outputId": "4176afe1-873f-4cb0-bbcd-669b3a217187"
      },
      "source": [
        "# Verificatoin of data and directories\n",
        "images_dir = dir + '/data/dataset/dataset_split/train'\n",
        "routes_dirs = os.listdir(images_dir)\n",
        "routes_name = routes_top['route']\n",
        "\n",
        "# See if all directories exist\n",
        "for name in routes_name:\n",
        "    if os.path.exists(os.path.join(images_dir, name)):\n",
        "        print(\"Found -->\", os.path.join(images_dir, name))\n",
        "    else:\n",
        "        print(\"Did not find -->\", os.path.join(images_dir, name))"
      ],
      "execution_count": null,
      "outputs": [
        {
          "output_type": "stream",
          "text": [
            "Found --> /content/drive/Shared drives/DS4A-T76/DS4A-Team76/data/dataset/dataset_split/train/655\n",
            "Found --> /content/drive/Shared drives/DS4A-T76/DS4A-Team76/data/dataset/dataset_split/train/277\n",
            "Found --> /content/drive/Shared drives/DS4A-T76/DS4A-Team76/data/dataset/dataset_split/train/654\n",
            "Found --> /content/drive/Shared drives/DS4A-T76/DS4A-Team76/data/dataset/dataset_split/train/172\n",
            "Found --> /content/drive/Shared drives/DS4A-T76/DS4A-Team76/data/dataset/dataset_split/train/280\n",
            "Found --> /content/drive/Shared drives/DS4A-T76/DS4A-Team76/data/dataset/dataset_split/train/272\n",
            "Found --> /content/drive/Shared drives/DS4A-T76/DS4A-Team76/data/dataset/dataset_split/train/295\n",
            "Found --> /content/drive/Shared drives/DS4A-T76/DS4A-Team76/data/dataset/dataset_split/train/634\n",
            "Found --> /content/drive/Shared drives/DS4A-T76/DS4A-Team76/data/dataset/dataset_split/train/170\n",
            "Found --> /content/drive/Shared drives/DS4A-T76/DS4A-Team76/data/dataset/dataset_split/train/169\n",
            "Found --> /content/drive/Shared drives/DS4A-T76/DS4A-Team76/data/dataset/dataset_split/train/281\n",
            "Found --> /content/drive/Shared drives/DS4A-T76/DS4A-Team76/data/dataset/dataset_split/train/656\n",
            "Found --> /content/drive/Shared drives/DS4A-T76/DS4A-Team76/data/dataset/dataset_split/train/653\n",
            "Found --> /content/drive/Shared drives/DS4A-T76/DS4A-Team76/data/dataset/dataset_split/train/584\n",
            "Found --> /content/drive/Shared drives/DS4A-T76/DS4A-Team76/data/dataset/dataset_split/train/585\n"
          ],
          "name": "stdout"
        }
      ]
    },
    {
      "cell_type": "markdown",
      "metadata": {
        "id": "aBydqFPZ30QS"
      },
      "source": [
        "## Data Processing"
      ]
    },
    {
      "cell_type": "markdown",
      "metadata": {
        "id": "ZVxmBdIW82rB"
      },
      "source": [
        "## Print few random images\n"
      ]
    },
    {
      "cell_type": "code",
      "metadata": {
        "id": "d2nroq6M80cb",
        "colab": {
          "base_uri": "https://localhost:8080/",
          "height": 520
        },
        "outputId": "26c5501b-5b5e-4e13-ef5a-c8e1c9053dc9"
      },
      "source": [
        "# Print 10 random paintings\n",
        "n = 5\n",
        "fig, axes = plt.subplots(2, n, figsize=(20,10))\n",
        "\n",
        "for i in range(n):\n",
        "    random_route = random.choice(routes_name)\n",
        "    random_image = random.choice(os.listdir(os.path.join(images_dir, random_route)))\n",
        "    random_image_file = os.path.join(images_dir, random_route, random_image)\n",
        "    image = plt.imread(random_image_file)\n",
        "    axes[0][i].imshow(image)\n",
        "    axes[0][i].set_title(\"Route: \" + random_route)\n",
        "    axes[0][i].axis('off')\n",
        "\n",
        "for i in range(n):\n",
        "    random_route = random.choice(routes_name)\n",
        "    random_image = random.choice(os.listdir(os.path.join(images_dir, random_route)))\n",
        "    random_image_file = os.path.join(images_dir, random_route, random_image)\n",
        "    image = plt.imread(random_image_file)\n",
        "    axes[1][i].imshow(image)\n",
        "    axes[1][i].set_title(\"Route: \" + random_route)\n",
        "    axes[1][i].axis('off')\n",
        "\n",
        "\n",
        "plt.show()"
      ],
      "execution_count": null,
      "outputs": [
        {
          "output_type": "display_data",
          "data": {
            "image/png": "[encoded data removed]",
            "text/plain": [
              "<Figure size 1440x720 with 10 Axes>"
            ]
          },
          "metadata": {
            "tags": [],
            "needs_background": "light"
          }
        }
      ]
    },
    {
      "cell_type": "markdown",
      "metadata": {
        "id": "J24FoQcFiJ6F"
      },
      "source": [
        "# Data Generators"
      ]
    },
    {
      "cell_type": "markdown",
      "metadata": {
        "id": "STeGRbr02DJR"
      },
      "source": [
        "The dataset was divided into test and training set using a proportion of 70% - 30% respectively, from the training partition, is taken 10% of the data as the validation set. The data was divided into two different directories, one for training and one for testing. Each one of these folders was divided into the respective artists. This partition seeks been able to test the model with unseen data, an\n"
      ]
    },
    {
      "cell_type": "code",
      "metadata": {
        "id": "ildRv-Za9M4Z",
        "colab": {
          "base_uri": "https://localhost:8080/"
        },
        "outputId": "8ce94eaf-3c6d-429a-d6f0-76f5a9573af1"
      },
      "source": [
        "# Augment data\n",
        "batch_size = 16\n",
        "train_input_shape = (224, 224, 3)\n",
        "n_classes = routes_top.shape[0]\n",
        "\n",
        "train_datagen = ImageDataGenerator(validation_split=0.1,\n",
        "                  rescale=1./255.,\n",
        "                  rotation_range=45,\n",
        "                  width_shift_range=0.2,\n",
        "                  height_shift_range=0.2,\n",
        "                  shear_range=5,\n",
        "                  zoom_range=0.4,\n",
        "                  horizontal_flip=True,\n",
        "                  vertical_flip=True,\n",
        "                )\n",
        "\n",
        "train_generator = train_datagen.flow_from_directory(directory=train_dir,\n",
        "                        class_mode='categorical',\n",
        "                        target_size=train_input_shape[0:2],\n",
        "                        batch_size=batch_size,\n",
        "                        subset=\"training\",\n",
        "                        shuffle=True,\n",
        "                        classes=routes_name.tolist()\n",
        "                        )\n",
        "\n",
        "valid_generator = train_datagen.flow_from_directory(directory=train_dir,\n",
        "                        class_mode='categorical',\n",
        "                        target_size=train_input_shape[0:2],\n",
        "                        batch_size=batch_size,\n",
        "                        subset=\"validation\",\n",
        "                        shuffle=True,\n",
        "                        classes=routes_name.tolist()\n",
        "                        )\n",
        "\n",
        "STEP_SIZE_TRAIN = train_generator.n//train_generator.batch_size\n",
        "STEP_SIZE_VALID = valid_generator.n//valid_generator.batch_size\n",
        "print(\"Total number of batches =\", STEP_SIZE_TRAIN,\" for training and \", STEP_SIZE_VALID, \"for validation\")"
      ],
      "execution_count": null,
      "outputs": [
        {
          "output_type": "stream",
          "text": [
            "Found 833 images belonging to 15 classes.\n",
            "Found 86 images belonging to 15 classes.\n",
            "Total number of batches = 52  for training and  5 for validation\n"
          ],
          "name": "stdout"
        }
      ]
    },
    {
      "cell_type": "markdown",
      "metadata": {
        "id": "5nQDbUqGoyxS"
      },
      "source": [
        "## Few samples of data augmentation"
      ]
    },
    {
      "cell_type": "markdown",
      "metadata": {
        "id": "ybF7nA65199O"
      },
      "source": [
        "To increase the number of pictures to train our model, we\n",
        "use a data augmentation technique, where some transforma-\n",
        "tions like rotation and scale, are applied to the original image."
      ]
    },
    {
      "cell_type": "code",
      "metadata": {
        "id": "nExay0wQ_TGm",
        "colab": {
          "base_uri": "https://localhost:8080/",
          "height": 205
        },
        "outputId": "9912bbac-2587-483d-e874-df4e3e448bee"
      },
      "source": [
        "# Print a random paintings and it's random augmented version\n",
        "n_fig = 6\n",
        "fig, axes = plt.subplots(1, n_fig, figsize=(20,10))\n",
        "\n",
        "random_route = random.choice(routes_name)\n",
        "random_image = random.choice(os.listdir(os.path.join(images_dir, random_route)))\n",
        "random_image_file = os.path.join(images_dir, random_route, random_image)\n",
        "\n",
        "# Original image\n",
        "image = plt.imread(random_image_file)\n",
        "axes[0].imshow(image)\n",
        "axes[0].set_title(\"An original Image of \" + random_route)\n",
        "axes[0].axis('off')\n",
        "\n",
        "  # Transformed image\n",
        "for i in range(1,n_fig):\n",
        "  aug_image = train_datagen.random_transform(image)\n",
        "  axes[i].imshow(aug_image)\n",
        "  axes[i].set_title(\"A transformed Image of \" + random_route)\n",
        "  axes[i].axis('off')\n",
        "\n",
        "plt.show()"
      ],
      "execution_count": null,
      "outputs": [
        {
          "output_type": "display_data",
          "data": {
            "image/png": "[encoded data removed]",
            "text/plain": [
              "<Figure size 1440x720 with 6 Axes>"
            ]
          },
          "metadata": {
            "tags": [],
            "needs_background": "light"
          }
        }
      ]
    },
    {
      "cell_type": "code",
      "metadata": {
        "id": "9uHC_GGrcYPT"
      },
      "source": [
        ""
      ],
      "execution_count": null,
      "outputs": []
    },
    {
      "cell_type": "markdown",
      "metadata": {
        "id": "L92LqS-Lo88c"
      },
      "source": [
        "## Sample of a batch with data augmentation\n"
      ]
    },
    {
      "cell_type": "code",
      "metadata": {
        "id": "BP6LfbXwoV1z",
        "colab": {
          "base_uri": "https://localhost:8080/",
          "height": 594
        },
        "outputId": "515abbfa-a049-48f8-d1db-ad8b8af80a4a"
      },
      "source": [
        "fig, axes = plt.subplots(4, 4, figsize=(20,10))\n",
        "m = 0\n",
        "for x,y in train_generator:\n",
        "  if m == 1:\n",
        "    break\n",
        "  m+=1 \n",
        "  for i in range(4):\n",
        "    for j in range(4):\n",
        "      axes[i][j].imshow(x[4*i+j])\n",
        "plt.show()"
      ],
      "execution_count": null,
      "outputs": [
        {
          "output_type": "display_data",
          "data": {
            "image/png": "[encoded data removed]",
            "text/plain": [
              "<Figure size 1440x720 with 16 Axes>"
            ]
          },
          "metadata": {
            "tags": [],
            "needs_background": "light"
          }
        }
      ]
    },
    {
      "cell_type": "markdown",
      "metadata": {
        "id": "xDW4UZqr_6Mx"
      },
      "source": [
        "# Build And Train Models \n",
        "\n"
      ]
    },
    {
      "cell_type": "markdown",
      "metadata": {
        "id": "di1bGap77Cle"
      },
      "source": [
        "## RestNet50\n"
      ]
    },
    {
      "cell_type": "code",
      "metadata": {
        "id": "BUbANBb3_-SS",
        "colab": {
          "base_uri": "https://localhost:8080/"
        },
        "outputId": "807ba7e8-9c37-480c-9b84-b56cb1a1c1f9"
      },
      "source": [
        "# Load pre-trained model\n",
        "base_model = ResNet50(weights='imagenet', include_top=False, input_shape=train_input_shape)\n",
        "\n",
        "for layer in base_model.layers:\n",
        "    layer.trainable = True\n",
        "\n",
        "base_model.summary() "
      ],
      "execution_count": null,
      "outputs": [
        {
          "output_type": "stream",
          "text": [
            "Model: \"resnet50\"\n",
            "__________________________________________________________________________________________________\n",
            "Layer (type)                    Output Shape         Param #     Connected to                     \n",
            "==================================================================================================\n",
            "input_1 (InputLayer)            [(None, 224, 224, 3) 0                                            \n",
            "__________________________________________________________________________________________________\n",
            "conv1_pad (ZeroPadding2D)       (None, 230, 230, 3)  0           input_1[0][0]                    \n",
            "__________________________________________________________________________________________________\n",
            "conv1_conv (Conv2D)             (None, 112, 112, 64) 9472        conv1_pad[0][0]                  \n",
            "__________________________________________________________________________________________________\n",
            "conv1_bn (BatchNormalization)   (None, 112, 112, 64) 256         conv1_conv[0][0]                 \n",
            "__________________________________________________________________________________________________\n",
            "conv1_relu (Activation)         (None, 112, 112, 64) 0           conv1_bn[0][0]                   \n",
            "__________________________________________________________________________________________________\n",
            "pool1_pad (ZeroPadding2D)       (None, 114, 114, 64) 0           conv1_relu[0][0]                 \n",
            "__________________________________________________________________________________________________\n",
            "pool1_pool (MaxPooling2D)       (None, 56, 56, 64)   0           pool1_pad[0][0]                  \n",
            "__________________________________________________________________________________________________\n",
            "conv2_block1_1_conv (Conv2D)    (None, 56, 56, 64)   4160        pool1_pool[0][0]                 \n",
            "__________________________________________________________________________________________________\n",
            "conv2_block1_1_bn (BatchNormali (None, 56, 56, 64)   256         conv2_block1_1_conv[0][0]        \n",
            "__________________________________________________________________________________________________\n",
            "conv2_block1_1_relu (Activation (None, 56, 56, 64)   0           conv2_block1_1_bn[0][0]          \n",
            "__________________________________________________________________________________________________\n",
            "conv2_block1_2_conv (Conv2D)    (None, 56, 56, 64)   36928       conv2_block1_1_relu[0][0]        \n",
            "__________________________________________________________________________________________________\n",
            "conv2_block1_2_bn (BatchNormali (None, 56, 56, 64)   256         conv2_block1_2_conv[0][0]        \n",
            "__________________________________________________________________________________________________\n",
            "conv2_block1_2_relu (Activation (None, 56, 56, 64)   0           conv2_block1_2_bn[0][0]          \n",
            "__________________________________________________________________________________________________\n",
            "conv2_block1_0_conv (Conv2D)    (None, 56, 56, 256)  16640       pool1_pool[0][0]                 \n",
            "__________________________________________________________________________________________________\n",
            "conv2_block1_3_conv (Conv2D)    (None, 56, 56, 256)  16640       conv2_block1_2_relu[0][0]        \n",
            "__________________________________________________________________________________________________\n",
            "conv2_block1_0_bn (BatchNormali (None, 56, 56, 256)  1024        conv2_block1_0_conv[0][0]        \n",
            "__________________________________________________________________________________________________\n",
            "conv2_block1_3_bn (BatchNormali (None, 56, 56, 256)  1024        conv2_block1_3_conv[0][0]        \n",
            "__________________________________________________________________________________________________\n",
            "conv2_block1_add (Add)          (None, 56, 56, 256)  0           conv2_block1_0_bn[0][0]          \n",
            "                                                                 conv2_block1_3_bn[0][0]          \n",
            "__________________________________________________________________________________________________\n",
            "conv2_block1_out (Activation)   (None, 56, 56, 256)  0           conv2_block1_add[0][0]           \n",
            "__________________________________________________________________________________________________\n",
            "conv2_block2_1_conv (Conv2D)    (None, 56, 56, 64)   16448       conv2_block1_out[0][0]           \n",
            "__________________________________________________________________________________________________\n",
            "conv2_block2_1_bn (BatchNormali (None, 56, 56, 64)   256         conv2_block2_1_conv[0][0]        \n",
            "__________________________________________________________________________________________________\n",
            "conv2_block2_1_relu (Activation (None, 56, 56, 64)   0           conv2_block2_1_bn[0][0]          \n",
            "__________________________________________________________________________________________________\n",
            "conv2_block2_2_conv (Conv2D)    (None, 56, 56, 64)   36928       conv2_block2_1_relu[0][0]        \n",
            "__________________________________________________________________________________________________\n",
            "conv2_block2_2_bn (BatchNormali (None, 56, 56, 64)   256         conv2_block2_2_conv[0][0]        \n",
            "__________________________________________________________________________________________________\n",
            "conv2_block2_2_relu (Activation (None, 56, 56, 64)   0           conv2_block2_2_bn[0][0]          \n",
            "__________________________________________________________________________________________________\n",
            "conv2_block2_3_conv (Conv2D)    (None, 56, 56, 256)  16640       conv2_block2_2_relu[0][0]        \n",
            "__________________________________________________________________________________________________\n",
            "conv2_block2_3_bn (BatchNormali (None, 56, 56, 256)  1024        conv2_block2_3_conv[0][0]        \n",
            "__________________________________________________________________________________________________\n",
            "conv2_block2_add (Add)          (None, 56, 56, 256)  0           conv2_block1_out[0][0]           \n",
            "                                                                 conv2_block2_3_bn[0][0]          \n",
            "__________________________________________________________________________________________________\n",
            "conv2_block2_out (Activation)   (None, 56, 56, 256)  0           conv2_block2_add[0][0]           \n",
            "__________________________________________________________________________________________________\n",
            "conv2_block3_1_conv (Conv2D)    (None, 56, 56, 64)   16448       conv2_block2_out[0][0]           \n",
            "__________________________________________________________________________________________________\n",
            "conv2_block3_1_bn (BatchNormali (None, 56, 56, 64)   256         conv2_block3_1_conv[0][0]        \n",
            "__________________________________________________________________________________________________\n",
            "conv2_block3_1_relu (Activation (None, 56, 56, 64)   0           conv2_block3_1_bn[0][0]          \n",
            "__________________________________________________________________________________________________\n",
            "conv2_block3_2_conv (Conv2D)    (None, 56, 56, 64)   36928       conv2_block3_1_relu[0][0]        \n",
            "__________________________________________________________________________________________________\n",
            "conv2_block3_2_bn (BatchNormali (None, 56, 56, 64)   256         conv2_block3_2_conv[0][0]        \n",
            "__________________________________________________________________________________________________\n",
            "conv2_block3_2_relu (Activation (None, 56, 56, 64)   0           conv2_block3_2_bn[0][0]          \n",
            "__________________________________________________________________________________________________\n",
            "conv2_block3_3_conv (Conv2D)    (None, 56, 56, 256)  16640       conv2_block3_2_relu[0][0]        \n",
            "__________________________________________________________________________________________________\n",
            "conv2_block3_3_bn (BatchNormali (None, 56, 56, 256)  1024        conv2_block3_3_conv[0][0]        \n",
            "__________________________________________________________________________________________________\n",
            "conv2_block3_add (Add)          (None, 56, 56, 256)  0           conv2_block2_out[0][0]           \n",
            "                                                                 conv2_block3_3_bn[0][0]          \n",
            "__________________________________________________________________________________________________\n",
            "conv2_block3_out (Activation)   (None, 56, 56, 256)  0           conv2_block3_add[0][0]           \n",
            "__________________________________________________________________________________________________\n",
            "conv3_block1_1_conv (Conv2D)    (None, 28, 28, 128)  32896       conv2_block3_out[0][0]           \n",
            "__________________________________________________________________________________________________\n",
            "conv3_block1_1_bn (BatchNormali (None, 28, 28, 128)  512         conv3_block1_1_conv[0][0]        \n",
            "__________________________________________________________________________________________________\n",
            "conv3_block1_1_relu (Activation (None, 28, 28, 128)  0           conv3_block1_1_bn[0][0]          \n",
            "__________________________________________________________________________________________________\n",
            "conv3_block1_2_conv (Conv2D)    (None, 28, 28, 128)  147584      conv3_block1_1_relu[0][0]        \n",
            "__________________________________________________________________________________________________\n",
            "conv3_block1_2_bn (BatchNormali (None, 28, 28, 128)  512         conv3_block1_2_conv[0][0]        \n",
            "__________________________________________________________________________________________________\n",
            "conv3_block1_2_relu (Activation (None, 28, 28, 128)  0           conv3_block1_2_bn[0][0]          \n",
            "__________________________________________________________________________________________________\n",
            "conv3_block1_0_conv (Conv2D)    (None, 28, 28, 512)  131584      conv2_block3_out[0][0]           \n",
            "__________________________________________________________________________________________________\n",
            "conv3_block1_3_conv (Conv2D)    (None, 28, 28, 512)  66048       conv3_block1_2_relu[0][0]        \n",
            "__________________________________________________________________________________________________\n",
            "conv3_block1_0_bn (BatchNormali (None, 28, 28, 512)  2048        conv3_block1_0_conv[0][0]        \n",
            "__________________________________________________________________________________________________\n",
            "conv3_block1_3_bn (BatchNormali (None, 28, 28, 512)  2048        conv3_block1_3_conv[0][0]        \n",
            "__________________________________________________________________________________________________\n",
            "conv3_block1_add (Add)          (None, 28, 28, 512)  0           conv3_block1_0_bn[0][0]          \n",
            "                                                                 conv3_block1_3_bn[0][0]          \n",
            "__________________________________________________________________________________________________\n",
            "conv3_block1_out (Activation)   (None, 28, 28, 512)  0           conv3_block1_add[0][0]           \n",
            "__________________________________________________________________________________________________\n",
            "conv3_block2_1_conv (Conv2D)    (None, 28, 28, 128)  65664       conv3_block1_out[0][0]           \n",
            "__________________________________________________________________________________________________\n",
            "conv3_block2_1_bn (BatchNormali (None, 28, 28, 128)  512         conv3_block2_1_conv[0][0]        \n",
            "__________________________________________________________________________________________________\n",
            "conv3_block2_1_relu (Activation (None, 28, 28, 128)  0           conv3_block2_1_bn[0][0]          \n",
            "__________________________________________________________________________________________________\n",
            "conv3_block2_2_conv (Conv2D)    (None, 28, 28, 128)  147584      conv3_block2_1_relu[0][0]        \n",
            "__________________________________________________________________________________________________\n",
            "conv3_block2_2_bn (BatchNormali (None, 28, 28, 128)  512         conv3_block2_2_conv[0][0]        \n",
            "__________________________________________________________________________________________________\n",
            "conv3_block2_2_relu (Activation (None, 28, 28, 128)  0           conv3_block2_2_bn[0][0]          \n",
            "__________________________________________________________________________________________________\n",
            "conv3_block2_3_conv (Conv2D)    (None, 28, 28, 512)  66048       conv3_block2_2_relu[0][0]        \n",
            "__________________________________________________________________________________________________\n",
            "conv3_block2_3_bn (BatchNormali (None, 28, 28, 512)  2048        conv3_block2_3_conv[0][0]        \n",
            "__________________________________________________________________________________________________\n",
            "conv3_block2_add (Add)          (None, 28, 28, 512)  0           conv3_block1_out[0][0]           \n",
            "                                                                 conv3_block2_3_bn[0][0]          \n",
            "__________________________________________________________________________________________________\n",
            "conv3_block2_out (Activation)   (None, 28, 28, 512)  0           conv3_block2_add[0][0]           \n",
            "__________________________________________________________________________________________________\n",
            "conv3_block3_1_conv (Conv2D)    (None, 28, 28, 128)  65664       conv3_block2_out[0][0]           \n",
            "__________________________________________________________________________________________________\n",
            "conv3_block3_1_bn (BatchNormali (None, 28, 28, 128)  512         conv3_block3_1_conv[0][0]        \n",
            "__________________________________________________________________________________________________\n",
            "conv3_block3_1_relu (Activation (None, 28, 28, 128)  0           conv3_block3_1_bn[0][0]          \n",
            "__________________________________________________________________________________________________\n",
            "conv3_block3_2_conv (Conv2D)    (None, 28, 28, 128)  147584      conv3_block3_1_relu[0][0]        \n",
            "__________________________________________________________________________________________________\n",
            "conv3_block3_2_bn (BatchNormali (None, 28, 28, 128)  512         conv3_block3_2_conv[0][0]        \n",
            "__________________________________________________________________________________________________\n",
            "conv3_block3_2_relu (Activation (None, 28, 28, 128)  0           conv3_block3_2_bn[0][0]          \n",
            "__________________________________________________________________________________________________\n",
            "conv3_block3_3_conv (Conv2D)    (None, 28, 28, 512)  66048       conv3_block3_2_relu[0][0]        \n",
            "__________________________________________________________________________________________________\n",
            "conv3_block3_3_bn (BatchNormali (None, 28, 28, 512)  2048        conv3_block3_3_conv[0][0]        \n",
            "__________________________________________________________________________________________________\n",
            "conv3_block3_add (Add)          (None, 28, 28, 512)  0           conv3_block2_out[0][0]           \n",
            "                                                                 conv3_block3_3_bn[0][0]          \n",
            "__________________________________________________________________________________________________\n",
            "conv3_block3_out (Activation)   (None, 28, 28, 512)  0           conv3_block3_add[0][0]           \n",
            "__________________________________________________________________________________________________\n",
            "conv3_block4_1_conv (Conv2D)    (None, 28, 28, 128)  65664       conv3_block3_out[0][0]           \n",
            "__________________________________________________________________________________________________\n",
            "conv3_block4_1_bn (BatchNormali (None, 28, 28, 128)  512         conv3_block4_1_conv[0][0]        \n",
            "__________________________________________________________________________________________________\n",
            "conv3_block4_1_relu (Activation (None, 28, 28, 128)  0           conv3_block4_1_bn[0][0]          \n",
            "__________________________________________________________________________________________________\n",
            "conv3_block4_2_conv (Conv2D)    (None, 28, 28, 128)  147584      conv3_block4_1_relu[0][0]        \n",
            "__________________________________________________________________________________________________\n",
            "conv3_block4_2_bn (BatchNormali (None, 28, 28, 128)  512         conv3_block4_2_conv[0][0]        \n",
            "__________________________________________________________________________________________________\n",
            "conv3_block4_2_relu (Activation (None, 28, 28, 128)  0           conv3_block4_2_bn[0][0]          \n",
            "__________________________________________________________________________________________________\n",
            "conv3_block4_3_conv (Conv2D)    (None, 28, 28, 512)  66048       conv3_block4_2_relu[0][0]        \n",
            "__________________________________________________________________________________________________\n",
            "conv3_block4_3_bn (BatchNormali (None, 28, 28, 512)  2048        conv3_block4_3_conv[0][0]        \n",
            "__________________________________________________________________________________________________\n",
            "conv3_block4_add (Add)          (None, 28, 28, 512)  0           conv3_block3_out[0][0]           \n",
            "                                                                 conv3_block4_3_bn[0][0]          \n",
            "__________________________________________________________________________________________________\n",
            "conv3_block4_out (Activation)   (None, 28, 28, 512)  0           conv3_block4_add[0][0]           \n",
            "__________________________________________________________________________________________________\n",
            "conv4_block1_1_conv (Conv2D)    (None, 14, 14, 256)  131328      conv3_block4_out[0][0]           \n",
            "__________________________________________________________________________________________________\n",
            "conv4_block1_1_bn (BatchNormali (None, 14, 14, 256)  1024        conv4_block1_1_conv[0][0]        \n",
            "__________________________________________________________________________________________________\n",
            "conv4_block1_1_relu (Activation (None, 14, 14, 256)  0           conv4_block1_1_bn[0][0]          \n",
            "__________________________________________________________________________________________________\n",
            "conv4_block1_2_conv (Conv2D)    (None, 14, 14, 256)  590080      conv4_block1_1_relu[0][0]        \n",
            "__________________________________________________________________________________________________\n",
            "conv4_block1_2_bn (BatchNormali (None, 14, 14, 256)  1024        conv4_block1_2_conv[0][0]        \n",
            "__________________________________________________________________________________________________\n",
            "conv4_block1_2_relu (Activation (None, 14, 14, 256)  0           conv4_block1_2_bn[0][0]          \n",
            "__________________________________________________________________________________________________\n",
            "conv4_block1_0_conv (Conv2D)    (None, 14, 14, 1024) 525312      conv3_block4_out[0][0]           \n",
            "__________________________________________________________________________________________________\n",
            "conv4_block1_3_conv (Conv2D)    (None, 14, 14, 1024) 263168      conv4_block1_2_relu[0][0]        \n",
            "__________________________________________________________________________________________________\n",
            "conv4_block1_0_bn (BatchNormali (None, 14, 14, 1024) 4096        conv4_block1_0_conv[0][0]        \n",
            "__________________________________________________________________________________________________\n",
            "conv4_block1_3_bn (BatchNormali (None, 14, 14, 1024) 4096        conv4_block1_3_conv[0][0]        \n",
            "__________________________________________________________________________________________________\n",
            "conv4_block1_add (Add)          (None, 14, 14, 1024) 0           conv4_block1_0_bn[0][0]          \n",
            "                                                                 conv4_block1_3_bn[0][0]          \n",
            "__________________________________________________________________________________________________\n",
            "conv4_block1_out (Activation)   (None, 14, 14, 1024) 0           conv4_block1_add[0][0]           \n",
            "__________________________________________________________________________________________________\n",
            "conv4_block2_1_conv (Conv2D)    (None, 14, 14, 256)  262400      conv4_block1_out[0][0]           \n",
            "__________________________________________________________________________________________________\n",
            "conv4_block2_1_bn (BatchNormali (None, 14, 14, 256)  1024        conv4_block2_1_conv[0][0]        \n",
            "__________________________________________________________________________________________________\n",
            "conv4_block2_1_relu (Activation (None, 14, 14, 256)  0           conv4_block2_1_bn[0][0]          \n",
            "__________________________________________________________________________________________________\n",
            "conv4_block2_2_conv (Conv2D)    (None, 14, 14, 256)  590080      conv4_block2_1_relu[0][0]        \n",
            "__________________________________________________________________________________________________\n",
            "conv4_block2_2_bn (BatchNormali (None, 14, 14, 256)  1024        conv4_block2_2_conv[0][0]        \n",
            "__________________________________________________________________________________________________\n",
            "conv4_block2_2_relu (Activation (None, 14, 14, 256)  0           conv4_block2_2_bn[0][0]          \n",
            "__________________________________________________________________________________________________\n",
            "conv4_block2_3_conv (Conv2D)    (None, 14, 14, 1024) 263168      conv4_block2_2_relu[0][0]        \n",
            "__________________________________________________________________________________________________\n",
            "conv4_block2_3_bn (BatchNormali (None, 14, 14, 1024) 4096        conv4_block2_3_conv[0][0]        \n",
            "__________________________________________________________________________________________________\n",
            "conv4_block2_add (Add)          (None, 14, 14, 1024) 0           conv4_block1_out[0][0]           \n",
            "                                                                 conv4_block2_3_bn[0][0]          \n",
            "__________________________________________________________________________________________________\n",
            "conv4_block2_out (Activation)   (None, 14, 14, 1024) 0           conv4_block2_add[0][0]           \n",
            "__________________________________________________________________________________________________\n",
            "conv4_block3_1_conv (Conv2D)    (None, 14, 14, 256)  262400      conv4_block2_out[0][0]           \n",
            "__________________________________________________________________________________________________\n",
            "conv4_block3_1_bn (BatchNormali (None, 14, 14, 256)  1024        conv4_block3_1_conv[0][0]        \n",
            "__________________________________________________________________________________________________\n",
            "conv4_block3_1_relu (Activation (None, 14, 14, 256)  0           conv4_block3_1_bn[0][0]          \n",
            "__________________________________________________________________________________________________\n",
            "conv4_block3_2_conv (Conv2D)    (None, 14, 14, 256)  590080      conv4_block3_1_relu[0][0]        \n",
            "__________________________________________________________________________________________________\n",
            "conv4_block3_2_bn (BatchNormali (None, 14, 14, 256)  1024        conv4_block3_2_conv[0][0]        \n",
            "__________________________________________________________________________________________________\n",
            "conv4_block3_2_relu (Activation (None, 14, 14, 256)  0           conv4_block3_2_bn[0][0]          \n",
            "__________________________________________________________________________________________________\n",
            "conv4_block3_3_conv (Conv2D)    (None, 14, 14, 1024) 263168      conv4_block3_2_relu[0][0]        \n",
            "__________________________________________________________________________________________________\n",
            "conv4_block3_3_bn (BatchNormali (None, 14, 14, 1024) 4096        conv4_block3_3_conv[0][0]        \n",
            "__________________________________________________________________________________________________\n",
            "conv4_block3_add (Add)          (None, 14, 14, 1024) 0           conv4_block2_out[0][0]           \n",
            "                                                                 conv4_block3_3_bn[0][0]          \n",
            "__________________________________________________________________________________________________\n",
            "conv4_block3_out (Activation)   (None, 14, 14, 1024) 0           conv4_block3_add[0][0]           \n",
            "__________________________________________________________________________________________________\n",
            "conv4_block4_1_conv (Conv2D)    (None, 14, 14, 256)  262400      conv4_block3_out[0][0]           \n",
            "__________________________________________________________________________________________________\n",
            "conv4_block4_1_bn (BatchNormali (None, 14, 14, 256)  1024        conv4_block4_1_conv[0][0]        \n",
            "__________________________________________________________________________________________________\n",
            "conv4_block4_1_relu (Activation (None, 14, 14, 256)  0           conv4_block4_1_bn[0][0]          \n",
            "__________________________________________________________________________________________________\n",
            "conv4_block4_2_conv (Conv2D)    (None, 14, 14, 256)  590080      conv4_block4_1_relu[0][0]        \n",
            "__________________________________________________________________________________________________\n",
            "conv4_block4_2_bn (BatchNormali (None, 14, 14, 256)  1024        conv4_block4_2_conv[0][0]        \n",
            "__________________________________________________________________________________________________\n",
            "conv4_block4_2_relu (Activation (None, 14, 14, 256)  0           conv4_block4_2_bn[0][0]          \n",
            "__________________________________________________________________________________________________\n",
            "conv4_block4_3_conv (Conv2D)    (None, 14, 14, 1024) 263168      conv4_block4_2_relu[0][0]        \n",
            "__________________________________________________________________________________________________\n",
            "conv4_block4_3_bn (BatchNormali (None, 14, 14, 1024) 4096        conv4_block4_3_conv[0][0]        \n",
            "__________________________________________________________________________________________________\n",
            "conv4_block4_add (Add)          (None, 14, 14, 1024) 0           conv4_block3_out[0][0]           \n",
            "                                                                 conv4_block4_3_bn[0][0]          \n",
            "__________________________________________________________________________________________________\n",
            "conv4_block4_out (Activation)   (None, 14, 14, 1024) 0           conv4_block4_add[0][0]           \n",
            "__________________________________________________________________________________________________\n",
            "conv4_block5_1_conv (Conv2D)    (None, 14, 14, 256)  262400      conv4_block4_out[0][0]           \n",
            "__________________________________________________________________________________________________\n",
            "conv4_block5_1_bn (BatchNormali (None, 14, 14, 256)  1024        conv4_block5_1_conv[0][0]        \n",
            "__________________________________________________________________________________________________\n",
            "conv4_block5_1_relu (Activation (None, 14, 14, 256)  0           conv4_block5_1_bn[0][0]          \n",
            "__________________________________________________________________________________________________\n",
            "conv4_block5_2_conv (Conv2D)    (None, 14, 14, 256)  590080      conv4_block5_1_relu[0][0]        \n",
            "__________________________________________________________________________________________________\n",
            "conv4_block5_2_bn (BatchNormali (None, 14, 14, 256)  1024        conv4_block5_2_conv[0][0]        \n",
            "__________________________________________________________________________________________________\n",
            "conv4_block5_2_relu (Activation (None, 14, 14, 256)  0           conv4_block5_2_bn[0][0]          \n",
            "__________________________________________________________________________________________________\n",
            "conv4_block5_3_conv (Conv2D)    (None, 14, 14, 1024) 263168      conv4_block5_2_relu[0][0]        \n",
            "__________________________________________________________________________________________________\n",
            "conv4_block5_3_bn (BatchNormali (None, 14, 14, 1024) 4096        conv4_block5_3_conv[0][0]        \n",
            "__________________________________________________________________________________________________\n",
            "conv4_block5_add (Add)          (None, 14, 14, 1024) 0           conv4_block4_out[0][0]           \n",
            "                                                                 conv4_block5_3_bn[0][0]          \n",
            "__________________________________________________________________________________________________\n",
            "conv4_block5_out (Activation)   (None, 14, 14, 1024) 0           conv4_block5_add[0][0]           \n",
            "__________________________________________________________________________________________________\n",
            "conv4_block6_1_conv (Conv2D)    (None, 14, 14, 256)  262400      conv4_block5_out[0][0]           \n",
            "__________________________________________________________________________________________________\n",
            "conv4_block6_1_bn (BatchNormali (None, 14, 14, 256)  1024        conv4_block6_1_conv[0][0]        \n",
            "__________________________________________________________________________________________________\n",
            "conv4_block6_1_relu (Activation (None, 14, 14, 256)  0           conv4_block6_1_bn[0][0]          \n",
            "__________________________________________________________________________________________________\n",
            "conv4_block6_2_conv (Conv2D)    (None, 14, 14, 256)  590080      conv4_block6_1_relu[0][0]        \n",
            "__________________________________________________________________________________________________\n",
            "conv4_block6_2_bn (BatchNormali (None, 14, 14, 256)  1024        conv4_block6_2_conv[0][0]        \n",
            "__________________________________________________________________________________________________\n",
            "conv4_block6_2_relu (Activation (None, 14, 14, 256)  0           conv4_block6_2_bn[0][0]          \n",
            "__________________________________________________________________________________________________\n",
            "conv4_block6_3_conv (Conv2D)    (None, 14, 14, 1024) 263168      conv4_block6_2_relu[0][0]        \n",
            "__________________________________________________________________________________________________\n",
            "conv4_block6_3_bn (BatchNormali (None, 14, 14, 1024) 4096        conv4_block6_3_conv[0][0]        \n",
            "__________________________________________________________________________________________________\n",
            "conv4_block6_add (Add)          (None, 14, 14, 1024) 0           conv4_block5_out[0][0]           \n",
            "                                                                 conv4_block6_3_bn[0][0]          \n",
            "__________________________________________________________________________________________________\n",
            "conv4_block6_out (Activation)   (None, 14, 14, 1024) 0           conv4_block6_add[0][0]           \n",
            "__________________________________________________________________________________________________\n",
            "conv5_block1_1_conv (Conv2D)    (None, 7, 7, 512)    524800      conv4_block6_out[0][0]           \n",
            "__________________________________________________________________________________________________\n",
            "conv5_block1_1_bn (BatchNormali (None, 7, 7, 512)    2048        conv5_block1_1_conv[0][0]        \n",
            "__________________________________________________________________________________________________\n",
            "conv5_block1_1_relu (Activation (None, 7, 7, 512)    0           conv5_block1_1_bn[0][0]          \n",
            "__________________________________________________________________________________________________\n",
            "conv5_block1_2_conv (Conv2D)    (None, 7, 7, 512)    2359808     conv5_block1_1_relu[0][0]        \n",
            "__________________________________________________________________________________________________\n",
            "conv5_block1_2_bn (BatchNormali (None, 7, 7, 512)    2048        conv5_block1_2_conv[0][0]        \n",
            "__________________________________________________________________________________________________\n",
            "conv5_block1_2_relu (Activation (None, 7, 7, 512)    0           conv5_block1_2_bn[0][0]          \n",
            "__________________________________________________________________________________________________\n",
            "conv5_block1_0_conv (Conv2D)    (None, 7, 7, 2048)   2099200     conv4_block6_out[0][0]           \n",
            "__________________________________________________________________________________________________\n",
            "conv5_block1_3_conv (Conv2D)    (None, 7, 7, 2048)   1050624     conv5_block1_2_relu[0][0]        \n",
            "__________________________________________________________________________________________________\n",
            "conv5_block1_0_bn (BatchNormali (None, 7, 7, 2048)   8192        conv5_block1_0_conv[0][0]        \n",
            "__________________________________________________________________________________________________\n",
            "conv5_block1_3_bn (BatchNormali (None, 7, 7, 2048)   8192        conv5_block1_3_conv[0][0]        \n",
            "__________________________________________________________________________________________________\n",
            "conv5_block1_add (Add)          (None, 7, 7, 2048)   0           conv5_block1_0_bn[0][0]          \n",
            "                                                                 conv5_block1_3_bn[0][0]          \n",
            "__________________________________________________________________________________________________\n",
            "conv5_block1_out (Activation)   (None, 7, 7, 2048)   0           conv5_block1_add[0][0]           \n",
            "__________________________________________________________________________________________________\n",
            "conv5_block2_1_conv (Conv2D)    (None, 7, 7, 512)    1049088     conv5_block1_out[0][0]           \n",
            "__________________________________________________________________________________________________\n",
            "conv5_block2_1_bn (BatchNormali (None, 7, 7, 512)    2048        conv5_block2_1_conv[0][0]        \n",
            "__________________________________________________________________________________________________\n",
            "conv5_block2_1_relu (Activation (None, 7, 7, 512)    0           conv5_block2_1_bn[0][0]          \n",
            "__________________________________________________________________________________________________\n",
            "conv5_block2_2_conv (Conv2D)    (None, 7, 7, 512)    2359808     conv5_block2_1_relu[0][0]        \n",
            "__________________________________________________________________________________________________\n",
            "conv5_block2_2_bn (BatchNormali (None, 7, 7, 512)    2048        conv5_block2_2_conv[0][0]        \n",
            "__________________________________________________________________________________________________\n",
            "conv5_block2_2_relu (Activation (None, 7, 7, 512)    0           conv5_block2_2_bn[0][0]          \n",
            "__________________________________________________________________________________________________\n",
            "conv5_block2_3_conv (Conv2D)    (None, 7, 7, 2048)   1050624     conv5_block2_2_relu[0][0]        \n",
            "__________________________________________________________________________________________________\n",
            "conv5_block2_3_bn (BatchNormali (None, 7, 7, 2048)   8192        conv5_block2_3_conv[0][0]        \n",
            "__________________________________________________________________________________________________\n",
            "conv5_block2_add (Add)          (None, 7, 7, 2048)   0           conv5_block1_out[0][0]           \n",
            "                                                                 conv5_block2_3_bn[0][0]          \n",
            "__________________________________________________________________________________________________\n",
            "conv5_block2_out (Activation)   (None, 7, 7, 2048)   0           conv5_block2_add[0][0]           \n",
            "__________________________________________________________________________________________________\n",
            "conv5_block3_1_conv (Conv2D)    (None, 7, 7, 512)    1049088     conv5_block2_out[0][0]           \n",
            "__________________________________________________________________________________________________\n",
            "conv5_block3_1_bn (BatchNormali (None, 7, 7, 512)    2048        conv5_block3_1_conv[0][0]        \n",
            "__________________________________________________________________________________________________\n",
            "conv5_block3_1_relu (Activation (None, 7, 7, 512)    0           conv5_block3_1_bn[0][0]          \n",
            "__________________________________________________________________________________________________\n",
            "conv5_block3_2_conv (Conv2D)    (None, 7, 7, 512)    2359808     conv5_block3_1_relu[0][0]        \n",
            "__________________________________________________________________________________________________\n",
            "conv5_block3_2_bn (BatchNormali (None, 7, 7, 512)    2048        conv5_block3_2_conv[0][0]        \n",
            "__________________________________________________________________________________________________\n",
            "conv5_block3_2_relu (Activation (None, 7, 7, 512)    0           conv5_block3_2_bn[0][0]          \n",
            "__________________________________________________________________________________________________\n",
            "conv5_block3_3_conv (Conv2D)    (None, 7, 7, 2048)   1050624     conv5_block3_2_relu[0][0]        \n",
            "__________________________________________________________________________________________________\n",
            "conv5_block3_3_bn (BatchNormali (None, 7, 7, 2048)   8192        conv5_block3_3_conv[0][0]        \n",
            "__________________________________________________________________________________________________\n",
            "conv5_block3_add (Add)          (None, 7, 7, 2048)   0           conv5_block2_out[0][0]           \n",
            "                                                                 conv5_block3_3_bn[0][0]          \n",
            "__________________________________________________________________________________________________\n",
            "conv5_block3_out (Activation)   (None, 7, 7, 2048)   0           conv5_block3_add[0][0]           \n",
            "==================================================================================================\n",
            "Total params: 23,587,712\n",
            "Trainable params: 23,534,592\n",
            "Non-trainable params: 53,120\n",
            "__________________________________________________________________________________________________\n"
          ],
          "name": "stdout"
        }
      ]
    },
    {
      "cell_type": "code",
      "metadata": {
        "id": "07SCeUvUAfpz",
        "colab": {
          "base_uri": "https://localhost:8080/"
        },
        "outputId": "0c13ab57-8fc8-4397-d78b-e1077127ab61"
      },
      "source": [
        "# Add layers at the end\n",
        "X = base_model.output\n",
        "X = Flatten()(X)\n",
        "\n",
        "X = Dense(512, kernel_initializer='he_uniform')(X)\n",
        "#X = Dropout(0.5)(X)\n",
        "X = BatchNormalization()(X)\n",
        "X = Activation('relu')(X)\n",
        "\n",
        "X = Dense(128, kernel_initializer='he_uniform')(X)\n",
        "#X = Dropout(0.5)(X)\n",
        "X = BatchNormalization()(X)\n",
        "X = Activation('relu')(X)\n",
        "\n",
        "output = Dense(n_classes, activation='softmax')(X)\n",
        "\n",
        "model_resnetv2 = Model(inputs=base_model.input, outputs=output)\n",
        "\n",
        "model_resnetv2.summary()"
      ],
      "execution_count": null,
      "outputs": [
        {
          "output_type": "stream",
          "text": [
            "Model: \"functional_1\"\n",
            "__________________________________________________________________________________________________\n",
            "Layer (type)                    Output Shape         Param #     Connected to                     \n",
            "==================================================================================================\n",
            "input_1 (InputLayer)            [(None, 224, 224, 3) 0                                            \n",
            "__________________________________________________________________________________________________\n",
            "conv1_pad (ZeroPadding2D)       (None, 230, 230, 3)  0           input_1[0][0]                    \n",
            "__________________________________________________________________________________________________\n",
            "conv1_conv (Conv2D)             (None, 112, 112, 64) 9472        conv1_pad[0][0]                  \n",
            "__________________________________________________________________________________________________\n",
            "conv1_bn (BatchNormalization)   (None, 112, 112, 64) 256         conv1_conv[0][0]                 \n",
            "__________________________________________________________________________________________________\n",
            "conv1_relu (Activation)         (None, 112, 112, 64) 0           conv1_bn[0][0]                   \n",
            "__________________________________________________________________________________________________\n",
            "pool1_pad (ZeroPadding2D)       (None, 114, 114, 64) 0           conv1_relu[0][0]                 \n",
            "__________________________________________________________________________________________________\n",
            "pool1_pool (MaxPooling2D)       (None, 56, 56, 64)   0           pool1_pad[0][0]                  \n",
            "__________________________________________________________________________________________________\n",
            "conv2_block1_1_conv (Conv2D)    (None, 56, 56, 64)   4160        pool1_pool[0][0]                 \n",
            "__________________________________________________________________________________________________\n",
            "conv2_block1_1_bn (BatchNormali (None, 56, 56, 64)   256         conv2_block1_1_conv[0][0]        \n",
            "__________________________________________________________________________________________________\n",
            "conv2_block1_1_relu (Activation (None, 56, 56, 64)   0           conv2_block1_1_bn[0][0]          \n",
            "__________________________________________________________________________________________________\n",
            "conv2_block1_2_conv (Conv2D)    (None, 56, 56, 64)   36928       conv2_block1_1_relu[0][0]        \n",
            "__________________________________________________________________________________________________\n",
            "conv2_block1_2_bn (BatchNormali (None, 56, 56, 64)   256         conv2_block1_2_conv[0][0]        \n",
            "__________________________________________________________________________________________________\n",
            "conv2_block1_2_relu (Activation (None, 56, 56, 64)   0           conv2_block1_2_bn[0][0]          \n",
            "__________________________________________________________________________________________________\n",
            "conv2_block1_0_conv (Conv2D)    (None, 56, 56, 256)  16640       pool1_pool[0][0]                 \n",
            "__________________________________________________________________________________________________\n",
            "conv2_block1_3_conv (Conv2D)    (None, 56, 56, 256)  16640       conv2_block1_2_relu[0][0]        \n",
            "__________________________________________________________________________________________________\n",
            "conv2_block1_0_bn (BatchNormali (None, 56, 56, 256)  1024        conv2_block1_0_conv[0][0]        \n",
            "__________________________________________________________________________________________________\n",
            "conv2_block1_3_bn (BatchNormali (None, 56, 56, 256)  1024        conv2_block1_3_conv[0][0]        \n",
            "__________________________________________________________________________________________________\n",
            "conv2_block1_add (Add)          (None, 56, 56, 256)  0           conv2_block1_0_bn[0][0]          \n",
            "                                                                 conv2_block1_3_bn[0][0]          \n",
            "__________________________________________________________________________________________________\n",
            "conv2_block1_out (Activation)   (None, 56, 56, 256)  0           conv2_block1_add[0][0]           \n",
            "__________________________________________________________________________________________________\n",
            "conv2_block2_1_conv (Conv2D)    (None, 56, 56, 64)   16448       conv2_block1_out[0][0]           \n",
            "__________________________________________________________________________________________________\n",
            "conv2_block2_1_bn (BatchNormali (None, 56, 56, 64)   256         conv2_block2_1_conv[0][0]        \n",
            "__________________________________________________________________________________________________\n",
            "conv2_block2_1_relu (Activation (None, 56, 56, 64)   0           conv2_block2_1_bn[0][0]          \n",
            "__________________________________________________________________________________________________\n",
            "conv2_block2_2_conv (Conv2D)    (None, 56, 56, 64)   36928       conv2_block2_1_relu[0][0]        \n",
            "__________________________________________________________________________________________________\n",
            "conv2_block2_2_bn (BatchNormali (None, 56, 56, 64)   256         conv2_block2_2_conv[0][0]        \n",
            "__________________________________________________________________________________________________\n",
            "conv2_block2_2_relu (Activation (None, 56, 56, 64)   0           conv2_block2_2_bn[0][0]          \n",
            "__________________________________________________________________________________________________\n",
            "conv2_block2_3_conv (Conv2D)    (None, 56, 56, 256)  16640       conv2_block2_2_relu[0][0]        \n",
            "__________________________________________________________________________________________________\n",
            "conv2_block2_3_bn (BatchNormali (None, 56, 56, 256)  1024        conv2_block2_3_conv[0][0]        \n",
            "__________________________________________________________________________________________________\n",
            "conv2_block2_add (Add)          (None, 56, 56, 256)  0           conv2_block1_out[0][0]           \n",
            "                                                                 conv2_block2_3_bn[0][0]          \n",
            "__________________________________________________________________________________________________\n",
            "conv2_block2_out (Activation)   (None, 56, 56, 256)  0           conv2_block2_add[0][0]           \n",
            "__________________________________________________________________________________________________\n",
            "conv2_block3_1_conv (Conv2D)    (None, 56, 56, 64)   16448       conv2_block2_out[0][0]           \n",
            "__________________________________________________________________________________________________\n",
            "conv2_block3_1_bn (BatchNormali (None, 56, 56, 64)   256         conv2_block3_1_conv[0][0]        \n",
            "__________________________________________________________________________________________________\n",
            "conv2_block3_1_relu (Activation (None, 56, 56, 64)   0           conv2_block3_1_bn[0][0]          \n",
            "__________________________________________________________________________________________________\n",
            "conv2_block3_2_conv (Conv2D)    (None, 56, 56, 64)   36928       conv2_block3_1_relu[0][0]        \n",
            "__________________________________________________________________________________________________\n",
            "conv2_block3_2_bn (BatchNormali (None, 56, 56, 64)   256         conv2_block3_2_conv[0][0]        \n",
            "__________________________________________________________________________________________________\n",
            "conv2_block3_2_relu (Activation (None, 56, 56, 64)   0           conv2_block3_2_bn[0][0]          \n",
            "__________________________________________________________________________________________________\n",
            "conv2_block3_3_conv (Conv2D)    (None, 56, 56, 256)  16640       conv2_block3_2_relu[0][0]        \n",
            "__________________________________________________________________________________________________\n",
            "conv2_block3_3_bn (BatchNormali (None, 56, 56, 256)  1024        conv2_block3_3_conv[0][0]        \n",
            "__________________________________________________________________________________________________\n",
            "conv2_block3_add (Add)          (None, 56, 56, 256)  0           conv2_block2_out[0][0]           \n",
            "                                                                 conv2_block3_3_bn[0][0]          \n",
            "__________________________________________________________________________________________________\n",
            "conv2_block3_out (Activation)   (None, 56, 56, 256)  0           conv2_block3_add[0][0]           \n",
            "__________________________________________________________________________________________________\n",
            "conv3_block1_1_conv (Conv2D)    (None, 28, 28, 128)  32896       conv2_block3_out[0][0]           \n",
            "__________________________________________________________________________________________________\n",
            "conv3_block1_1_bn (BatchNormali (None, 28, 28, 128)  512         conv3_block1_1_conv[0][0]        \n",
            "__________________________________________________________________________________________________\n",
            "conv3_block1_1_relu (Activation (None, 28, 28, 128)  0           conv3_block1_1_bn[0][0]          \n",
            "__________________________________________________________________________________________________\n",
            "conv3_block1_2_conv (Conv2D)    (None, 28, 28, 128)  147584      conv3_block1_1_relu[0][0]        \n",
            "__________________________________________________________________________________________________\n",
            "conv3_block1_2_bn (BatchNormali (None, 28, 28, 128)  512         conv3_block1_2_conv[0][0]        \n",
            "__________________________________________________________________________________________________\n",
            "conv3_block1_2_relu (Activation (None, 28, 28, 128)  0           conv3_block1_2_bn[0][0]          \n",
            "__________________________________________________________________________________________________\n",
            "conv3_block1_0_conv (Conv2D)    (None, 28, 28, 512)  131584      conv2_block3_out[0][0]           \n",
            "__________________________________________________________________________________________________\n",
            "conv3_block1_3_conv (Conv2D)    (None, 28, 28, 512)  66048       conv3_block1_2_relu[0][0]        \n",
            "__________________________________________________________________________________________________\n",
            "conv3_block1_0_bn (BatchNormali (None, 28, 28, 512)  2048        conv3_block1_0_conv[0][0]        \n",
            "__________________________________________________________________________________________________\n",
            "conv3_block1_3_bn (BatchNormali (None, 28, 28, 512)  2048        conv3_block1_3_conv[0][0]        \n",
            "__________________________________________________________________________________________________\n",
            "conv3_block1_add (Add)          (None, 28, 28, 512)  0           conv3_block1_0_bn[0][0]          \n",
            "                                                                 conv3_block1_3_bn[0][0]          \n",
            "__________________________________________________________________________________________________\n",
            "conv3_block1_out (Activation)   (None, 28, 28, 512)  0           conv3_block1_add[0][0]           \n",
            "__________________________________________________________________________________________________\n",
            "conv3_block2_1_conv (Conv2D)    (None, 28, 28, 128)  65664       conv3_block1_out[0][0]           \n",
            "__________________________________________________________________________________________________\n",
            "conv3_block2_1_bn (BatchNormali (None, 28, 28, 128)  512         conv3_block2_1_conv[0][0]        \n",
            "__________________________________________________________________________________________________\n",
            "conv3_block2_1_relu (Activation (None, 28, 28, 128)  0           conv3_block2_1_bn[0][0]          \n",
            "__________________________________________________________________________________________________\n",
            "conv3_block2_2_conv (Conv2D)    (None, 28, 28, 128)  147584      conv3_block2_1_relu[0][0]        \n",
            "__________________________________________________________________________________________________\n",
            "conv3_block2_2_bn (BatchNormali (None, 28, 28, 128)  512         conv3_block2_2_conv[0][0]        \n",
            "__________________________________________________________________________________________________\n",
            "conv3_block2_2_relu (Activation (None, 28, 28, 128)  0           conv3_block2_2_bn[0][0]          \n",
            "__________________________________________________________________________________________________\n",
            "conv3_block2_3_conv (Conv2D)    (None, 28, 28, 512)  66048       conv3_block2_2_relu[0][0]        \n",
            "__________________________________________________________________________________________________\n",
            "conv3_block2_3_bn (BatchNormali (None, 28, 28, 512)  2048        conv3_block2_3_conv[0][0]        \n",
            "__________________________________________________________________________________________________\n",
            "conv3_block2_add (Add)          (None, 28, 28, 512)  0           conv3_block1_out[0][0]           \n",
            "                                                                 conv3_block2_3_bn[0][0]          \n",
            "__________________________________________________________________________________________________\n",
            "conv3_block2_out (Activation)   (None, 28, 28, 512)  0           conv3_block2_add[0][0]           \n",
            "__________________________________________________________________________________________________\n",
            "conv3_block3_1_conv (Conv2D)    (None, 28, 28, 128)  65664       conv3_block2_out[0][0]           \n",
            "__________________________________________________________________________________________________\n",
            "conv3_block3_1_bn (BatchNormali (None, 28, 28, 128)  512         conv3_block3_1_conv[0][0]        \n",
            "__________________________________________________________________________________________________\n",
            "conv3_block3_1_relu (Activation (None, 28, 28, 128)  0           conv3_block3_1_bn[0][0]          \n",
            "__________________________________________________________________________________________________\n",
            "conv3_block3_2_conv (Conv2D)    (None, 28, 28, 128)  147584      conv3_block3_1_relu[0][0]        \n",
            "__________________________________________________________________________________________________\n",
            "conv3_block3_2_bn (BatchNormali (None, 28, 28, 128)  512         conv3_block3_2_conv[0][0]        \n",
            "__________________________________________________________________________________________________\n",
            "conv3_block3_2_relu (Activation (None, 28, 28, 128)  0           conv3_block3_2_bn[0][0]          \n",
            "__________________________________________________________________________________________________\n",
            "conv3_block3_3_conv (Conv2D)    (None, 28, 28, 512)  66048       conv3_block3_2_relu[0][0]        \n",
            "__________________________________________________________________________________________________\n",
            "conv3_block3_3_bn (BatchNormali (None, 28, 28, 512)  2048        conv3_block3_3_conv[0][0]        \n",
            "__________________________________________________________________________________________________\n",
            "conv3_block3_add (Add)          (None, 28, 28, 512)  0           conv3_block2_out[0][0]           \n",
            "                                                                 conv3_block3_3_bn[0][0]          \n",
            "__________________________________________________________________________________________________\n",
            "conv3_block3_out (Activation)   (None, 28, 28, 512)  0           conv3_block3_add[0][0]           \n",
            "__________________________________________________________________________________________________\n",
            "conv3_block4_1_conv (Conv2D)    (None, 28, 28, 128)  65664       conv3_block3_out[0][0]           \n",
            "__________________________________________________________________________________________________\n",
            "conv3_block4_1_bn (BatchNormali (None, 28, 28, 128)  512         conv3_block4_1_conv[0][0]        \n",
            "__________________________________________________________________________________________________\n",
            "conv3_block4_1_relu (Activation (None, 28, 28, 128)  0           conv3_block4_1_bn[0][0]          \n",
            "__________________________________________________________________________________________________\n",
            "conv3_block4_2_conv (Conv2D)    (None, 28, 28, 128)  147584      conv3_block4_1_relu[0][0]        \n",
            "__________________________________________________________________________________________________\n",
            "conv3_block4_2_bn (BatchNormali (None, 28, 28, 128)  512         conv3_block4_2_conv[0][0]        \n",
            "__________________________________________________________________________________________________\n",
            "conv3_block4_2_relu (Activation (None, 28, 28, 128)  0           conv3_block4_2_bn[0][0]          \n",
            "__________________________________________________________________________________________________\n",
            "conv3_block4_3_conv (Conv2D)    (None, 28, 28, 512)  66048       conv3_block4_2_relu[0][0]        \n",
            "__________________________________________________________________________________________________\n",
            "conv3_block4_3_bn (BatchNormali (None, 28, 28, 512)  2048        conv3_block4_3_conv[0][0]        \n",
            "__________________________________________________________________________________________________\n",
            "conv3_block4_add (Add)          (None, 28, 28, 512)  0           conv3_block3_out[0][0]           \n",
            "                                                                 conv3_block4_3_bn[0][0]          \n",
            "__________________________________________________________________________________________________\n",
            "conv3_block4_out (Activation)   (None, 28, 28, 512)  0           conv3_block4_add[0][0]           \n",
            "__________________________________________________________________________________________________\n",
            "conv4_block1_1_conv (Conv2D)    (None, 14, 14, 256)  131328      conv3_block4_out[0][0]           \n",
            "__________________________________________________________________________________________________\n",
            "conv4_block1_1_bn (BatchNormali (None, 14, 14, 256)  1024        conv4_block1_1_conv[0][0]        \n",
            "__________________________________________________________________________________________________\n",
            "conv4_block1_1_relu (Activation (None, 14, 14, 256)  0           conv4_block1_1_bn[0][0]          \n",
            "__________________________________________________________________________________________________\n",
            "conv4_block1_2_conv (Conv2D)    (None, 14, 14, 256)  590080      conv4_block1_1_relu[0][0]        \n",
            "__________________________________________________________________________________________________\n",
            "conv4_block1_2_bn (BatchNormali (None, 14, 14, 256)  1024        conv4_block1_2_conv[0][0]        \n",
            "__________________________________________________________________________________________________\n",
            "conv4_block1_2_relu (Activation (None, 14, 14, 256)  0           conv4_block1_2_bn[0][0]          \n",
            "__________________________________________________________________________________________________\n",
            "conv4_block1_0_conv (Conv2D)    (None, 14, 14, 1024) 525312      conv3_block4_out[0][0]           \n",
            "__________________________________________________________________________________________________\n",
            "conv4_block1_3_conv (Conv2D)    (None, 14, 14, 1024) 263168      conv4_block1_2_relu[0][0]        \n",
            "__________________________________________________________________________________________________\n",
            "conv4_block1_0_bn (BatchNormali (None, 14, 14, 1024) 4096        conv4_block1_0_conv[0][0]        \n",
            "__________________________________________________________________________________________________\n",
            "conv4_block1_3_bn (BatchNormali (None, 14, 14, 1024) 4096        conv4_block1_3_conv[0][0]        \n",
            "__________________________________________________________________________________________________\n",
            "conv4_block1_add (Add)          (None, 14, 14, 1024) 0           conv4_block1_0_bn[0][0]          \n",
            "                                                                 conv4_block1_3_bn[0][0]          \n",
            "__________________________________________________________________________________________________\n",
            "conv4_block1_out (Activation)   (None, 14, 14, 1024) 0           conv4_block1_add[0][0]           \n",
            "__________________________________________________________________________________________________\n",
            "conv4_block2_1_conv (Conv2D)    (None, 14, 14, 256)  262400      conv4_block1_out[0][0]           \n",
            "__________________________________________________________________________________________________\n",
            "conv4_block2_1_bn (BatchNormali (None, 14, 14, 256)  1024        conv4_block2_1_conv[0][0]        \n",
            "__________________________________________________________________________________________________\n",
            "conv4_block2_1_relu (Activation (None, 14, 14, 256)  0           conv4_block2_1_bn[0][0]          \n",
            "__________________________________________________________________________________________________\n",
            "conv4_block2_2_conv (Conv2D)    (None, 14, 14, 256)  590080      conv4_block2_1_relu[0][0]        \n",
            "__________________________________________________________________________________________________\n",
            "conv4_block2_2_bn (BatchNormali (None, 14, 14, 256)  1024        conv4_block2_2_conv[0][0]        \n",
            "__________________________________________________________________________________________________\n",
            "conv4_block2_2_relu (Activation (None, 14, 14, 256)  0           conv4_block2_2_bn[0][0]          \n",
            "__________________________________________________________________________________________________\n",
            "conv4_block2_3_conv (Conv2D)    (None, 14, 14, 1024) 263168      conv4_block2_2_relu[0][0]        \n",
            "__________________________________________________________________________________________________\n",
            "conv4_block2_3_bn (BatchNormali (None, 14, 14, 1024) 4096        conv4_block2_3_conv[0][0]        \n",
            "__________________________________________________________________________________________________\n",
            "conv4_block2_add (Add)          (None, 14, 14, 1024) 0           conv4_block1_out[0][0]           \n",
            "                                                                 conv4_block2_3_bn[0][0]          \n",
            "__________________________________________________________________________________________________\n",
            "conv4_block2_out (Activation)   (None, 14, 14, 1024) 0           conv4_block2_add[0][0]           \n",
            "__________________________________________________________________________________________________\n",
            "conv4_block3_1_conv (Conv2D)    (None, 14, 14, 256)  262400      conv4_block2_out[0][0]           \n",
            "__________________________________________________________________________________________________\n",
            "conv4_block3_1_bn (BatchNormali (None, 14, 14, 256)  1024        conv4_block3_1_conv[0][0]        \n",
            "__________________________________________________________________________________________________\n",
            "conv4_block3_1_relu (Activation (None, 14, 14, 256)  0           conv4_block3_1_bn[0][0]          \n",
            "__________________________________________________________________________________________________\n",
            "conv4_block3_2_conv (Conv2D)    (None, 14, 14, 256)  590080      conv4_block3_1_relu[0][0]        \n",
            "__________________________________________________________________________________________________\n",
            "conv4_block3_2_bn (BatchNormali (None, 14, 14, 256)  1024        conv4_block3_2_conv[0][0]        \n",
            "__________________________________________________________________________________________________\n",
            "conv4_block3_2_relu (Activation (None, 14, 14, 256)  0           conv4_block3_2_bn[0][0]          \n",
            "__________________________________________________________________________________________________\n",
            "conv4_block3_3_conv (Conv2D)    (None, 14, 14, 1024) 263168      conv4_block3_2_relu[0][0]        \n",
            "__________________________________________________________________________________________________\n",
            "conv4_block3_3_bn (BatchNormali (None, 14, 14, 1024) 4096        conv4_block3_3_conv[0][0]        \n",
            "__________________________________________________________________________________________________\n",
            "conv4_block3_add (Add)          (None, 14, 14, 1024) 0           conv4_block2_out[0][0]           \n",
            "                                                                 conv4_block3_3_bn[0][0]          \n",
            "__________________________________________________________________________________________________\n",
            "conv4_block3_out (Activation)   (None, 14, 14, 1024) 0           conv4_block3_add[0][0]           \n",
            "__________________________________________________________________________________________________\n",
            "conv4_block4_1_conv (Conv2D)    (None, 14, 14, 256)  262400      conv4_block3_out[0][0]           \n",
            "__________________________________________________________________________________________________\n",
            "conv4_block4_1_bn (BatchNormali (None, 14, 14, 256)  1024        conv4_block4_1_conv[0][0]        \n",
            "__________________________________________________________________________________________________\n",
            "conv4_block4_1_relu (Activation (None, 14, 14, 256)  0           conv4_block4_1_bn[0][0]          \n",
            "__________________________________________________________________________________________________\n",
            "conv4_block4_2_conv (Conv2D)    (None, 14, 14, 256)  590080      conv4_block4_1_relu[0][0]        \n",
            "__________________________________________________________________________________________________\n",
            "conv4_block4_2_bn (BatchNormali (None, 14, 14, 256)  1024        conv4_block4_2_conv[0][0]        \n",
            "__________________________________________________________________________________________________\n",
            "conv4_block4_2_relu (Activation (None, 14, 14, 256)  0           conv4_block4_2_bn[0][0]          \n",
            "__________________________________________________________________________________________________\n",
            "conv4_block4_3_conv (Conv2D)    (None, 14, 14, 1024) 263168      conv4_block4_2_relu[0][0]        \n",
            "__________________________________________________________________________________________________\n",
            "conv4_block4_3_bn (BatchNormali (None, 14, 14, 1024) 4096        conv4_block4_3_conv[0][0]        \n",
            "__________________________________________________________________________________________________\n",
            "conv4_block4_add (Add)          (None, 14, 14, 1024) 0           conv4_block3_out[0][0]           \n",
            "                                                                 conv4_block4_3_bn[0][0]          \n",
            "__________________________________________________________________________________________________\n",
            "conv4_block4_out (Activation)   (None, 14, 14, 1024) 0           conv4_block4_add[0][0]           \n",
            "__________________________________________________________________________________________________\n",
            "conv4_block5_1_conv (Conv2D)    (None, 14, 14, 256)  262400      conv4_block4_out[0][0]           \n",
            "__________________________________________________________________________________________________\n",
            "conv4_block5_1_bn (BatchNormali (None, 14, 14, 256)  1024        conv4_block5_1_conv[0][0]        \n",
            "__________________________________________________________________________________________________\n",
            "conv4_block5_1_relu (Activation (None, 14, 14, 256)  0           conv4_block5_1_bn[0][0]          \n",
            "__________________________________________________________________________________________________\n",
            "conv4_block5_2_conv (Conv2D)    (None, 14, 14, 256)  590080      conv4_block5_1_relu[0][0]        \n",
            "__________________________________________________________________________________________________\n",
            "conv4_block5_2_bn (BatchNormali (None, 14, 14, 256)  1024        conv4_block5_2_conv[0][0]        \n",
            "__________________________________________________________________________________________________\n",
            "conv4_block5_2_relu (Activation (None, 14, 14, 256)  0           conv4_block5_2_bn[0][0]          \n",
            "__________________________________________________________________________________________________\n",
            "conv4_block5_3_conv (Conv2D)    (None, 14, 14, 1024) 263168      conv4_block5_2_relu[0][0]        \n",
            "__________________________________________________________________________________________________\n",
            "conv4_block5_3_bn (BatchNormali (None, 14, 14, 1024) 4096        conv4_block5_3_conv[0][0]        \n",
            "__________________________________________________________________________________________________\n",
            "conv4_block5_add (Add)          (None, 14, 14, 1024) 0           conv4_block4_out[0][0]           \n",
            "                                                                 conv4_block5_3_bn[0][0]          \n",
            "__________________________________________________________________________________________________\n",
            "conv4_block5_out (Activation)   (None, 14, 14, 1024) 0           conv4_block5_add[0][0]           \n",
            "__________________________________________________________________________________________________\n",
            "conv4_block6_1_conv (Conv2D)    (None, 14, 14, 256)  262400      conv4_block5_out[0][0]           \n",
            "__________________________________________________________________________________________________\n",
            "conv4_block6_1_bn (BatchNormali (None, 14, 14, 256)  1024        conv4_block6_1_conv[0][0]        \n",
            "__________________________________________________________________________________________________\n",
            "conv4_block6_1_relu (Activation (None, 14, 14, 256)  0           conv4_block6_1_bn[0][0]          \n",
            "__________________________________________________________________________________________________\n",
            "conv4_block6_2_conv (Conv2D)    (None, 14, 14, 256)  590080      conv4_block6_1_relu[0][0]        \n",
            "__________________________________________________________________________________________________\n",
            "conv4_block6_2_bn (BatchNormali (None, 14, 14, 256)  1024        conv4_block6_2_conv[0][0]        \n",
            "__________________________________________________________________________________________________\n",
            "conv4_block6_2_relu (Activation (None, 14, 14, 256)  0           conv4_block6_2_bn[0][0]          \n",
            "__________________________________________________________________________________________________\n",
            "conv4_block6_3_conv (Conv2D)    (None, 14, 14, 1024) 263168      conv4_block6_2_relu[0][0]        \n",
            "__________________________________________________________________________________________________\n",
            "conv4_block6_3_bn (BatchNormali (None, 14, 14, 1024) 4096        conv4_block6_3_conv[0][0]        \n",
            "__________________________________________________________________________________________________\n",
            "conv4_block6_add (Add)          (None, 14, 14, 1024) 0           conv4_block5_out[0][0]           \n",
            "                                                                 conv4_block6_3_bn[0][0]          \n",
            "__________________________________________________________________________________________________\n",
            "conv4_block6_out (Activation)   (None, 14, 14, 1024) 0           conv4_block6_add[0][0]           \n",
            "__________________________________________________________________________________________________\n",
            "conv5_block1_1_conv (Conv2D)    (None, 7, 7, 512)    524800      conv4_block6_out[0][0]           \n",
            "__________________________________________________________________________________________________\n",
            "conv5_block1_1_bn (BatchNormali (None, 7, 7, 512)    2048        conv5_block1_1_conv[0][0]        \n",
            "__________________________________________________________________________________________________\n",
            "conv5_block1_1_relu (Activation (None, 7, 7, 512)    0           conv5_block1_1_bn[0][0]          \n",
            "__________________________________________________________________________________________________\n",
            "conv5_block1_2_conv (Conv2D)    (None, 7, 7, 512)    2359808     conv5_block1_1_relu[0][0]        \n",
            "__________________________________________________________________________________________________\n",
            "conv5_block1_2_bn (BatchNormali (None, 7, 7, 512)    2048        conv5_block1_2_conv[0][0]        \n",
            "__________________________________________________________________________________________________\n",
            "conv5_block1_2_relu (Activation (None, 7, 7, 512)    0           conv5_block1_2_bn[0][0]          \n",
            "__________________________________________________________________________________________________\n",
            "conv5_block1_0_conv (Conv2D)    (None, 7, 7, 2048)   2099200     conv4_block6_out[0][0]           \n",
            "__________________________________________________________________________________________________\n",
            "conv5_block1_3_conv (Conv2D)    (None, 7, 7, 2048)   1050624     conv5_block1_2_relu[0][0]        \n",
            "__________________________________________________________________________________________________\n",
            "conv5_block1_0_bn (BatchNormali (None, 7, 7, 2048)   8192        conv5_block1_0_conv[0][0]        \n",
            "__________________________________________________________________________________________________\n",
            "conv5_block1_3_bn (BatchNormali (None, 7, 7, 2048)   8192        conv5_block1_3_conv[0][0]        \n",
            "__________________________________________________________________________________________________\n",
            "conv5_block1_add (Add)          (None, 7, 7, 2048)   0           conv5_block1_0_bn[0][0]          \n",
            "                                                                 conv5_block1_3_bn[0][0]          \n",
            "__________________________________________________________________________________________________\n",
            "conv5_block1_out (Activation)   (None, 7, 7, 2048)   0           conv5_block1_add[0][0]           \n",
            "__________________________________________________________________________________________________\n",
            "conv5_block2_1_conv (Conv2D)    (None, 7, 7, 512)    1049088     conv5_block1_out[0][0]           \n",
            "__________________________________________________________________________________________________\n",
            "conv5_block2_1_bn (BatchNormali (None, 7, 7, 512)    2048        conv5_block2_1_conv[0][0]        \n",
            "__________________________________________________________________________________________________\n",
            "conv5_block2_1_relu (Activation (None, 7, 7, 512)    0           conv5_block2_1_bn[0][0]          \n",
            "__________________________________________________________________________________________________\n",
            "conv5_block2_2_conv (Conv2D)    (None, 7, 7, 512)    2359808     conv5_block2_1_relu[0][0]        \n",
            "__________________________________________________________________________________________________\n",
            "conv5_block2_2_bn (BatchNormali (None, 7, 7, 512)    2048        conv5_block2_2_conv[0][0]        \n",
            "__________________________________________________________________________________________________\n",
            "conv5_block2_2_relu (Activation (None, 7, 7, 512)    0           conv5_block2_2_bn[0][0]          \n",
            "__________________________________________________________________________________________________\n",
            "conv5_block2_3_conv (Conv2D)    (None, 7, 7, 2048)   1050624     conv5_block2_2_relu[0][0]        \n",
            "__________________________________________________________________________________________________\n",
            "conv5_block2_3_bn (BatchNormali (None, 7, 7, 2048)   8192        conv5_block2_3_conv[0][0]        \n",
            "__________________________________________________________________________________________________\n",
            "conv5_block2_add (Add)          (None, 7, 7, 2048)   0           conv5_block1_out[0][0]           \n",
            "                                                                 conv5_block2_3_bn[0][0]          \n",
            "__________________________________________________________________________________________________\n",
            "conv5_block2_out (Activation)   (None, 7, 7, 2048)   0           conv5_block2_add[0][0]           \n",
            "__________________________________________________________________________________________________\n",
            "conv5_block3_1_conv (Conv2D)    (None, 7, 7, 512)    1049088     conv5_block2_out[0][0]           \n",
            "__________________________________________________________________________________________________\n",
            "conv5_block3_1_bn (BatchNormali (None, 7, 7, 512)    2048        conv5_block3_1_conv[0][0]        \n",
            "__________________________________________________________________________________________________\n",
            "conv5_block3_1_relu (Activation (None, 7, 7, 512)    0           conv5_block3_1_bn[0][0]          \n",
            "__________________________________________________________________________________________________\n",
            "conv5_block3_2_conv (Conv2D)    (None, 7, 7, 512)    2359808     conv5_block3_1_relu[0][0]        \n",
            "__________________________________________________________________________________________________\n",
            "conv5_block3_2_bn (BatchNormali (None, 7, 7, 512)    2048        conv5_block3_2_conv[0][0]        \n",
            "__________________________________________________________________________________________________\n",
            "conv5_block3_2_relu (Activation (None, 7, 7, 512)    0           conv5_block3_2_bn[0][0]          \n",
            "__________________________________________________________________________________________________\n",
            "conv5_block3_3_conv (Conv2D)    (None, 7, 7, 2048)   1050624     conv5_block3_2_relu[0][0]        \n",
            "__________________________________________________________________________________________________\n",
            "conv5_block3_3_bn (BatchNormali (None, 7, 7, 2048)   8192        conv5_block3_3_conv[0][0]        \n",
            "__________________________________________________________________________________________________\n",
            "conv5_block3_add (Add)          (None, 7, 7, 2048)   0           conv5_block2_out[0][0]           \n",
            "                                                                 conv5_block3_3_bn[0][0]          \n",
            "__________________________________________________________________________________________________\n",
            "conv5_block3_out (Activation)   (None, 7, 7, 2048)   0           conv5_block3_add[0][0]           \n",
            "__________________________________________________________________________________________________\n",
            "flatten_1 (Flatten)             (None, 100352)       0           conv5_block3_out[0][0]           \n",
            "__________________________________________________________________________________________________\n",
            "dense_2 (Dense)                 (None, 512)          51380736    flatten_1[0][0]                  \n",
            "__________________________________________________________________________________________________\n",
            "batch_normalization (BatchNorma (None, 512)          2048        dense_2[0][0]                    \n",
            "__________________________________________________________________________________________________\n",
            "activation (Activation)         (None, 512)          0           batch_normalization[0][0]        \n",
            "__________________________________________________________________________________________________\n",
            "dense_3 (Dense)                 (None, 128)          65664       activation[0][0]                 \n",
            "__________________________________________________________________________________________________\n",
            "batch_normalization_1 (BatchNor (None, 128)          512         dense_3[0][0]                    \n",
            "__________________________________________________________________________________________________\n",
            "activation_1 (Activation)       (None, 128)          0           batch_normalization_1[0][0]      \n",
            "__________________________________________________________________________________________________\n",
            "dense_4 (Dense)                 (None, 15)           1935        activation_1[0][0]               \n",
            "==================================================================================================\n",
            "Total params: 75,038,607\n",
            "Trainable params: 74,984,207\n",
            "Non-trainable params: 54,400\n",
            "__________________________________________________________________________________________________\n"
          ],
          "name": "stdout"
        }
      ]
    },
    {
      "cell_type": "code",
      "metadata": {
        "id": "03dKXjPlBYW2"
      },
      "source": [
        "optimizer = Adam(lr=0.0001)\n",
        "model_resnetv2.compile(loss='categorical_crossentropy',\n",
        "              optimizer=optimizer, \n",
        "              metrics=['accuracy'])"
      ],
      "execution_count": null,
      "outputs": []
    },
    {
      "cell_type": "code",
      "metadata": {
        "id": "zmYYZr9WBZ1t"
      },
      "source": [
        "n_epoch = 10\n",
        "\n",
        "early_stop = EarlyStopping(monitor='val_loss', patience=20, verbose=1, \n",
        "                           mode='auto', restore_best_weights=True)\n",
        "\n",
        "reduce_lr = ReduceLROnPlateau(monitor='val_loss', factor=0.1, patience=5, \n",
        "                              verbose=1, mode='auto')"
      ],
      "execution_count": null,
      "outputs": []
    },
    {
      "cell_type": "code",
      "metadata": {
        "id": "OdGFAAfvHdiZ",
        "colab": {
          "base_uri": "https://localhost:8080/"
        },
        "outputId": "626a28df-fb9c-4875-c04f-6ed5df80cb66"
      },
      "source": [
        "class_weights = {}\n",
        "for i, d in enumerate(routes_top.iterrows()):\n",
        "  class_weights[i] = d[1].class_weight\n",
        "class_weights"
      ],
      "execution_count": null,
      "outputs": [
        {
          "output_type": "execute_result",
          "data": {
            "text/plain": [
              "{0: 0.4727272727272727,\n",
              " 1: 0.5777777777777777,\n",
              " 2: 0.6852713178294574,\n",
              " 3: 0.7015873015873015,\n",
              " 4: 0.7072,\n",
              " 5: 0.7129032258064516,\n",
              " 6: 0.8185185185185185,\n",
              " 7: 0.9714285714285714,\n",
              " 8: 1.078048780487805,\n",
              " 9: 1.38125,\n",
              " 10: 2.0090909090909093,\n",
              " 11: 2.8516129032258064,\n",
              " 12: 2.8516129032258064,\n",
              " 13: 5.2,\n",
              " 14: 6.314285714285714}"
            ]
          },
          "metadata": {
            "tags": []
          },
          "execution_count": 17
        }
      ]
    },
    {
      "cell_type": "code",
      "metadata": {
        "id": "YA-GHe4y5n-T",
        "colab": {
          "base_uri": "https://localhost:8080/"
        },
        "outputId": "ee57b210-d8ef-4b99-ecc6-71fe40b291be"
      },
      "source": [
        "# Train the model - all layers\n",
        "history1 = model_resnetv2.fit_generator(generator=train_generator, steps_per_epoch=STEP_SIZE_TRAIN,\n",
        "                validation_data=valid_generator, validation_steps=STEP_SIZE_VALID,\n",
        "                epochs=n_epoch,\n",
        "                shuffle=True,\n",
        "                verbose=1,\n",
        "                callbacks=[reduce_lr],\n",
        "                use_multiprocessing=True,\n",
        "                workers=16,\n",
        "                class_weight=class_weights\n",
        "                )"
      ],
      "execution_count": null,
      "outputs": [
        {
          "output_type": "stream",
          "text": [
            "WARNING:tensorflow:From <ipython-input-18-a9ebc8bf6f2d>:10: Model.fit_generator (from tensorflow.python.keras.engine.training) is deprecated and will be removed in a future version.\n",
            "Instructions for updating:\n",
            "Please use Model.fit, which supports generators.\n",
            "Epoch 1/10\n",
            "WARNING:tensorflow:multiprocessing can interact badly with TensorFlow, causing nondeterministic deadlocks. For high performance data pipelines tf.data is recommended.\n",
            "52/52 [==============================] - ETA: 0s - loss: 1.9879 - accuracy: 0.3953WARNING:tensorflow:multiprocessing can interact badly with TensorFlow, causing nondeterministic deadlocks. For high performance data pipelines tf.data is recommended.\n",
            "52/52 [==============================] - 47s 896ms/step - loss: 1.9879 - accuracy: 0.3953 - val_loss: 3.4729 - val_accuracy: 0.0875\n",
            "Epoch 2/10\n",
            "WARNING:tensorflow:multiprocessing can interact badly with TensorFlow, causing nondeterministic deadlocks. For high performance data pipelines tf.data is recommended.\n",
            "52/52 [==============================] - ETA: 0s - loss: 1.1440 - accuracy: 0.6732WARNING:tensorflow:multiprocessing can interact badly with TensorFlow, causing nondeterministic deadlocks. For high performance data pipelines tf.data is recommended.\n",
            "52/52 [==============================] - 15s 290ms/step - loss: 1.1440 - accuracy: 0.6732 - val_loss: 3.1180 - val_accuracy: 0.0000e+00\n",
            "Epoch 3/10\n",
            "WARNING:tensorflow:multiprocessing can interact badly with TensorFlow, causing nondeterministic deadlocks. For high performance data pipelines tf.data is recommended.\n",
            "52/52 [==============================] - ETA: 0s - loss: 0.7800 - accuracy: 0.7980WARNING:tensorflow:multiprocessing can interact badly with TensorFlow, causing nondeterministic deadlocks. For high performance data pipelines tf.data is recommended.\n",
            "52/52 [==============================] - 15s 289ms/step - loss: 0.7800 - accuracy: 0.7980 - val_loss: 3.4654 - val_accuracy: 0.0000e+00\n",
            "Epoch 4/10\n",
            "WARNING:tensorflow:multiprocessing can interact badly with TensorFlow, causing nondeterministic deadlocks. For high performance data pipelines tf.data is recommended.\n",
            "52/52 [==============================] - ETA: 0s - loss: 0.6348 - accuracy: 0.8262WARNING:tensorflow:multiprocessing can interact badly with TensorFlow, causing nondeterministic deadlocks. For high performance data pipelines tf.data is recommended.\n",
            "52/52 [==============================] - 15s 282ms/step - loss: 0.6348 - accuracy: 0.8262 - val_loss: 3.8412 - val_accuracy: 0.0750\n",
            "Epoch 5/10\n",
            "WARNING:tensorflow:multiprocessing can interact badly with TensorFlow, causing nondeterministic deadlocks. For high performance data pipelines tf.data is recommended.\n",
            "52/52 [==============================] - ETA: 0s - loss: 0.4766 - accuracy: 0.8813WARNING:tensorflow:multiprocessing can interact badly with TensorFlow, causing nondeterministic deadlocks. For high performance data pipelines tf.data is recommended.\n",
            "52/52 [==============================] - 15s 286ms/step - loss: 0.4766 - accuracy: 0.8813 - val_loss: 4.3500 - val_accuracy: 0.0000e+00\n",
            "Epoch 6/10\n",
            "WARNING:tensorflow:multiprocessing can interact badly with TensorFlow, causing nondeterministic deadlocks. For high performance data pipelines tf.data is recommended.\n",
            "52/52 [==============================] - ETA: 0s - loss: 0.4467 - accuracy: 0.9106WARNING:tensorflow:multiprocessing can interact badly with TensorFlow, causing nondeterministic deadlocks. For high performance data pipelines tf.data is recommended.\n",
            "52/52 [==============================] - 15s 297ms/step - loss: 0.4467 - accuracy: 0.9106 - val_loss: 4.2980 - val_accuracy: 0.0625\n",
            "Epoch 7/10\n",
            "WARNING:tensorflow:multiprocessing can interact badly with TensorFlow, causing nondeterministic deadlocks. For high performance data pipelines tf.data is recommended.\n",
            "52/52 [==============================] - ETA: 0s - loss: 0.3970 - accuracy: 0.9278WARNING:tensorflow:multiprocessing can interact badly with TensorFlow, causing nondeterministic deadlocks. For high performance data pipelines tf.data is recommended.\n",
            "\n",
            "Epoch 00007: ReduceLROnPlateau reducing learning rate to 9.999999747378752e-06.\n",
            "52/52 [==============================] - 15s 288ms/step - loss: 0.3970 - accuracy: 0.9278 - val_loss: 3.9967 - val_accuracy: 0.0750\n",
            "Epoch 8/10\n",
            "WARNING:tensorflow:multiprocessing can interact badly with TensorFlow, causing nondeterministic deadlocks. For high performance data pipelines tf.data is recommended.\n",
            "52/52 [==============================] - ETA: 0s - loss: 0.3886 - accuracy: 0.9045WARNING:tensorflow:multiprocessing can interact badly with TensorFlow, causing nondeterministic deadlocks. For high performance data pipelines tf.data is recommended.\n",
            "52/52 [==============================] - 15s 289ms/step - loss: 0.3886 - accuracy: 0.9045 - val_loss: 3.8368 - val_accuracy: 0.0750\n",
            "Epoch 9/10\n",
            "WARNING:tensorflow:multiprocessing can interact badly with TensorFlow, causing nondeterministic deadlocks. For high performance data pipelines tf.data is recommended.\n",
            "52/52 [==============================] - ETA: 0s - loss: 0.3070 - accuracy: 0.9351WARNING:tensorflow:multiprocessing can interact badly with TensorFlow, causing nondeterministic deadlocks. For high performance data pipelines tf.data is recommended.\n",
            "52/52 [==============================] - 15s 291ms/step - loss: 0.3070 - accuracy: 0.9351 - val_loss: 3.7772 - val_accuracy: 0.0750\n",
            "Epoch 10/10\n",
            "WARNING:tensorflow:multiprocessing can interact badly with TensorFlow, causing nondeterministic deadlocks. For high performance data pipelines tf.data is recommended.\n",
            "52/52 [==============================] - ETA: 0s - loss: 0.2718 - accuracy: 0.9437WARNING:tensorflow:multiprocessing can interact badly with TensorFlow, causing nondeterministic deadlocks. For high performance data pipelines tf.data is recommended.\n",
            "52/52 [==============================] - 15s 298ms/step - loss: 0.2718 - accuracy: 0.9437 - val_loss: 3.7470 - val_accuracy: 0.0750\n"
          ],
          "name": "stdout"
        }
      ]
    },
    {
      "cell_type": "code",
      "metadata": {
        "id": "S9TwAGTvA_Nn"
      },
      "source": [
        "!cd /content/drive/Shared\\ drives/DS4A-T76/DS4A-Team76 && ls models/ResNet50/"
      ],
      "execution_count": null,
      "outputs": []
    },
    {
      "cell_type": "code",
      "metadata": {
        "id": "uznn6cPQBkFv"
      },
      "source": [
        "# dir dir /content/drive/Shared drives/DS4A-T76/DS4A-Team76\n",
        "model_dir = dir + \"/models/ResNet50/\""
      ],
      "execution_count": null,
      "outputs": []
    },
    {
      "cell_type": "code",
      "metadata": {
        "id": "0NRlTsxLjaCX"
      },
      "source": [
        "# Set checkpoint callback\n",
        "filepath=\"/weights_resnet.hdf5\"\n",
        "\n",
        "checkpoint = ModelCheckpoint(model_dir + filepath, monitor='val_accuracy', verbose=1, save_best_only=True, mode='max')"
      ],
      "execution_count": null,
      "outputs": []
    },
    {
      "cell_type": "code",
      "metadata": {
        "id": "fAFogBqpJC-Y",
        "colab": {
          "base_uri": "https://localhost:8080/"
        },
        "outputId": "b155ec8a-5a11-487c-8788-dcc113c80b35"
      },
      "source": [
        "# Freeze core ResNet layers and train again \n",
        "for layer in model_resnetv2.layers:\n",
        "    layer.trainable = False\n",
        "\n",
        "for layer in model_resnetv2.layers[:50]:\n",
        "    layer.trainable = True\n",
        "\n",
        "optimizer = Adam(lr=0.0001)\n",
        "\n",
        "model_resnetv2.compile(loss='categorical_crossentropy',\n",
        "              optimizer=optimizer, \n",
        "              metrics=['accuracy'])\n",
        "\n",
        "n_epoch = 40\n",
        "history2 = model_resnetv2.fit_generator(generator=train_generator, steps_per_epoch=STEP_SIZE_TRAIN,\n",
        "                              validation_data=valid_generator, validation_steps=STEP_SIZE_VALID,\n",
        "                              epochs=n_epoch,\n",
        "                              shuffle=True,\n",
        "                              verbose=1,\n",
        "                              callbacks=[reduce_lr, early_stop, checkpoint],\n",
        "                              use_multiprocessing=True,\n",
        "                              workers=16,\n",
        "                             class_weight=class_weights\n",
        "                             )"
      ],
      "execution_count": null,
      "outputs": [
        {
          "output_type": "stream",
          "text": [
            "Epoch 1/40\n",
            "WARNING:tensorflow:multiprocessing can interact badly with TensorFlow, causing nondeterministic deadlocks. For high performance data pipelines tf.data is recommended.\n",
            "52/52 [==============================] - ETA: 0s - loss: 0.1563 - accuracy: 0.9816WARNING:tensorflow:multiprocessing can interact badly with TensorFlow, causing nondeterministic deadlocks. For high performance data pipelines tf.data is recommended.\n",
            "\n",
            "Epoch 00001: val_accuracy improved from -inf to 0.10000, saving model to /content/drive/Shared drives/DS4A-T76/DS4A-Team76/models/ResNet50/weights_resnet.hdf5\n",
            "52/52 [==============================] - 17s 336ms/step - loss: 0.1563 - accuracy: 0.9816 - val_loss: 3.7302 - val_accuracy: 0.1000\n",
            "Epoch 2/40\n",
            "WARNING:tensorflow:multiprocessing can interact badly with TensorFlow, causing nondeterministic deadlocks. For high performance data pipelines tf.data is recommended.\n",
            "52/52 [==============================] - ETA: 0s - loss: 0.1965 - accuracy: 0.9645WARNING:tensorflow:multiprocessing can interact badly with TensorFlow, causing nondeterministic deadlocks. For high performance data pipelines tf.data is recommended.\n",
            "\n",
            "Epoch 00002: val_accuracy did not improve from 0.10000\n",
            "52/52 [==============================] - 15s 297ms/step - loss: 0.1965 - accuracy: 0.9645 - val_loss: 3.7158 - val_accuracy: 0.0750\n",
            "Epoch 3/40\n",
            "WARNING:tensorflow:multiprocessing can interact badly with TensorFlow, causing nondeterministic deadlocks. For high performance data pipelines tf.data is recommended.\n",
            "52/52 [==============================] - ETA: 0s - loss: 0.0988 - accuracy: 0.9890WARNING:tensorflow:multiprocessing can interact badly with TensorFlow, causing nondeterministic deadlocks. For high performance data pipelines tf.data is recommended.\n",
            "\n",
            "Epoch 00003: val_accuracy did not improve from 0.10000\n",
            "52/52 [==============================] - 15s 279ms/step - loss: 0.0988 - accuracy: 0.9890 - val_loss: 3.7501 - val_accuracy: 0.1000\n",
            "Epoch 4/40\n",
            "WARNING:tensorflow:multiprocessing can interact badly with TensorFlow, causing nondeterministic deadlocks. For high performance data pipelines tf.data is recommended.\n",
            "52/52 [==============================] - ETA: 0s - loss: 0.1342 - accuracy: 0.9780WARNING:tensorflow:multiprocessing can interact badly with TensorFlow, causing nondeterministic deadlocks. For high performance data pipelines tf.data is recommended.\n",
            "\n",
            "Epoch 00004: val_accuracy did not improve from 0.10000\n",
            "52/52 [==============================] - 15s 288ms/step - loss: 0.1342 - accuracy: 0.9780 - val_loss: 3.5850 - val_accuracy: 0.0625\n",
            "Epoch 5/40\n",
            "WARNING:tensorflow:multiprocessing can interact badly with TensorFlow, causing nondeterministic deadlocks. For high performance data pipelines tf.data is recommended.\n",
            "52/52 [==============================] - ETA: 0s - loss: 0.1174 - accuracy: 0.9792WARNING:tensorflow:multiprocessing can interact badly with TensorFlow, causing nondeterministic deadlocks. For high performance data pipelines tf.data is recommended.\n",
            "\n",
            "Epoch 00005: val_accuracy did not improve from 0.10000\n",
            "52/52 [==============================] - 15s 291ms/step - loss: 0.1174 - accuracy: 0.9792 - val_loss: 3.2395 - val_accuracy: 0.1000\n",
            "Epoch 6/40\n",
            "WARNING:tensorflow:multiprocessing can interact badly with TensorFlow, causing nondeterministic deadlocks. For high performance data pipelines tf.data is recommended.\n",
            "52/52 [==============================] - ETA: 0s - loss: 0.1643 - accuracy: 0.9731WARNING:tensorflow:multiprocessing can interact badly with TensorFlow, causing nondeterministic deadlocks. For high performance data pipelines tf.data is recommended.\n",
            "\n",
            "Epoch 00006: val_accuracy improved from 0.10000 to 0.12500, saving model to /content/drive/Shared drives/DS4A-T76/DS4A-Team76/models/ResNet50/weights_resnet.hdf5\n",
            "52/52 [==============================] - 17s 331ms/step - loss: 0.1643 - accuracy: 0.9731 - val_loss: 3.1488 - val_accuracy: 0.1250\n",
            "Epoch 7/40\n",
            "WARNING:tensorflow:multiprocessing can interact badly with TensorFlow, causing nondeterministic deadlocks. For high performance data pipelines tf.data is recommended.\n",
            "52/52 [==============================] - ETA: 0s - loss: 0.0684 - accuracy: 0.9902WARNING:tensorflow:multiprocessing can interact badly with TensorFlow, causing nondeterministic deadlocks. For high performance data pipelines tf.data is recommended.\n",
            "\n",
            "Epoch 00007: val_accuracy improved from 0.12500 to 0.25000, saving model to /content/drive/Shared drives/DS4A-T76/DS4A-Team76/models/ResNet50/weights_resnet.hdf5\n",
            "52/52 [==============================] - 18s 339ms/step - loss: 0.0684 - accuracy: 0.9902 - val_loss: 2.7299 - val_accuracy: 0.2500\n",
            "Epoch 8/40\n",
            "WARNING:tensorflow:multiprocessing can interact badly with TensorFlow, causing nondeterministic deadlocks. For high performance data pipelines tf.data is recommended.\n",
            "52/52 [==============================] - ETA: 0s - loss: 0.1479 - accuracy: 0.9792WARNING:tensorflow:multiprocessing can interact badly with TensorFlow, causing nondeterministic deadlocks. For high performance data pipelines tf.data is recommended.\n",
            "\n",
            "Epoch 00008: val_accuracy improved from 0.25000 to 0.41250, saving model to /content/drive/Shared drives/DS4A-T76/DS4A-Team76/models/ResNet50/weights_resnet.hdf5\n",
            "52/52 [==============================] - 18s 343ms/step - loss: 0.1479 - accuracy: 0.9792 - val_loss: 2.1262 - val_accuracy: 0.4125\n",
            "Epoch 9/40\n",
            "WARNING:tensorflow:multiprocessing can interact badly with TensorFlow, causing nondeterministic deadlocks. For high performance data pipelines tf.data is recommended.\n",
            "52/52 [==============================] - ETA: 0s - loss: 0.1112 - accuracy: 0.9755WARNING:tensorflow:multiprocessing can interact badly with TensorFlow, causing nondeterministic deadlocks. For high performance data pipelines tf.data is recommended.\n",
            "\n",
            "Epoch 00009: val_accuracy improved from 0.41250 to 0.43750, saving model to /content/drive/Shared drives/DS4A-T76/DS4A-Team76/models/ResNet50/weights_resnet.hdf5\n",
            "52/52 [==============================] - 18s 349ms/step - loss: 0.1112 - accuracy: 0.9755 - val_loss: 1.8841 - val_accuracy: 0.4375\n",
            "Epoch 10/40\n",
            "WARNING:tensorflow:multiprocessing can interact badly with TensorFlow, causing nondeterministic deadlocks. For high performance data pipelines tf.data is recommended.\n",
            "52/52 [==============================] - ETA: 0s - loss: 0.0760 - accuracy: 0.9890WARNING:tensorflow:multiprocessing can interact badly with TensorFlow, causing nondeterministic deadlocks. For high performance data pipelines tf.data is recommended.\n",
            "\n",
            "Epoch 00010: val_accuracy improved from 0.43750 to 0.65000, saving model to /content/drive/Shared drives/DS4A-T76/DS4A-Team76/models/ResNet50/weights_resnet.hdf5\n",
            "52/52 [==============================] - 18s 352ms/step - loss: 0.0760 - accuracy: 0.9890 - val_loss: 1.0425 - val_accuracy: 0.6500\n",
            "Epoch 11/40\n",
            "WARNING:tensorflow:multiprocessing can interact badly with TensorFlow, causing nondeterministic deadlocks. For high performance data pipelines tf.data is recommended.\n",
            "52/52 [==============================] - ETA: 0s - loss: 0.1552 - accuracy: 0.9670WARNING:tensorflow:multiprocessing can interact badly with TensorFlow, causing nondeterministic deadlocks. For high performance data pipelines tf.data is recommended.\n",
            "\n",
            "Epoch 00011: val_accuracy did not improve from 0.65000\n",
            "52/52 [==============================] - 15s 296ms/step - loss: 0.1552 - accuracy: 0.9670 - val_loss: 1.2424 - val_accuracy: 0.6000\n",
            "Epoch 12/40\n",
            "WARNING:tensorflow:multiprocessing can interact badly with TensorFlow, causing nondeterministic deadlocks. For high performance data pipelines tf.data is recommended.\n",
            "52/52 [==============================] - ETA: 0s - loss: 0.1306 - accuracy: 0.9829WARNING:tensorflow:multiprocessing can interact badly with TensorFlow, causing nondeterministic deadlocks. For high performance data pipelines tf.data is recommended.\n",
            "\n",
            "Epoch 00012: val_accuracy improved from 0.65000 to 0.80000, saving model to /content/drive/Shared drives/DS4A-T76/DS4A-Team76/models/ResNet50/weights_resnet.hdf5\n",
            "52/52 [==============================] - 17s 335ms/step - loss: 0.1306 - accuracy: 0.9829 - val_loss: 0.7577 - val_accuracy: 0.8000\n",
            "Epoch 13/40\n",
            "WARNING:tensorflow:multiprocessing can interact badly with TensorFlow, causing nondeterministic deadlocks. For high performance data pipelines tf.data is recommended.\n",
            "52/52 [==============================] - ETA: 0s - loss: 0.0782 - accuracy: 0.9853WARNING:tensorflow:multiprocessing can interact badly with TensorFlow, causing nondeterministic deadlocks. For high performance data pipelines tf.data is recommended.\n",
            "\n",
            "Epoch 00013: val_accuracy improved from 0.80000 to 0.88750, saving model to /content/drive/Shared drives/DS4A-T76/DS4A-Team76/models/ResNet50/weights_resnet.hdf5\n",
            "52/52 [==============================] - 18s 347ms/step - loss: 0.0782 - accuracy: 0.9853 - val_loss: 0.4626 - val_accuracy: 0.8875\n",
            "Epoch 14/40\n",
            "WARNING:tensorflow:multiprocessing can interact badly with TensorFlow, causing nondeterministic deadlocks. For high performance data pipelines tf.data is recommended.\n",
            "52/52 [==============================] - ETA: 0s - loss: 0.0881 - accuracy: 0.9865WARNING:tensorflow:multiprocessing can interact badly with TensorFlow, causing nondeterministic deadlocks. For high performance data pipelines tf.data is recommended.\n",
            "\n",
            "Epoch 00014: val_accuracy improved from 0.88750 to 0.91250, saving model to /content/drive/Shared drives/DS4A-T76/DS4A-Team76/models/ResNet50/weights_resnet.hdf5\n",
            "52/52 [==============================] - 18s 354ms/step - loss: 0.0881 - accuracy: 0.9865 - val_loss: 0.4075 - val_accuracy: 0.9125\n",
            "Epoch 15/40\n",
            "WARNING:tensorflow:multiprocessing can interact badly with TensorFlow, causing nondeterministic deadlocks. For high performance data pipelines tf.data is recommended.\n",
            "52/52 [==============================] - ETA: 0s - loss: 0.1311 - accuracy: 0.9755WARNING:tensorflow:multiprocessing can interact badly with TensorFlow, causing nondeterministic deadlocks. For high performance data pipelines tf.data is recommended.\n",
            "\n",
            "Epoch 00015: val_accuracy did not improve from 0.91250\n",
            "52/52 [==============================] - 16s 299ms/step - loss: 0.1311 - accuracy: 0.9755 - val_loss: 0.5451 - val_accuracy: 0.8625\n",
            "Epoch 16/40\n",
            "WARNING:tensorflow:multiprocessing can interact badly with TensorFlow, causing nondeterministic deadlocks. For high performance data pipelines tf.data is recommended.\n",
            "52/52 [==============================] - ETA: 0s - loss: 0.0874 - accuracy: 0.9829WARNING:tensorflow:multiprocessing can interact badly with TensorFlow, causing nondeterministic deadlocks. For high performance data pipelines tf.data is recommended.\n",
            "\n",
            "Epoch 00016: val_accuracy did not improve from 0.91250\n",
            "52/52 [==============================] - 15s 280ms/step - loss: 0.0874 - accuracy: 0.9829 - val_loss: 0.4692 - val_accuracy: 0.8250\n",
            "Epoch 17/40\n",
            "WARNING:tensorflow:multiprocessing can interact badly with TensorFlow, causing nondeterministic deadlocks. For high performance data pipelines tf.data is recommended.\n",
            "52/52 [==============================] - ETA: 0s - loss: 0.0812 - accuracy: 0.9865WARNING:tensorflow:multiprocessing can interact badly with TensorFlow, causing nondeterministic deadlocks. For high performance data pipelines tf.data is recommended.\n",
            "\n",
            "Epoch 00017: val_accuracy improved from 0.91250 to 0.98750, saving model to /content/drive/Shared drives/DS4A-T76/DS4A-Team76/models/ResNet50/weights_resnet.hdf5\n",
            "52/52 [==============================] - 18s 347ms/step - loss: 0.0812 - accuracy: 0.9865 - val_loss: 0.1085 - val_accuracy: 0.9875\n",
            "Epoch 18/40\n",
            "WARNING:tensorflow:multiprocessing can interact badly with TensorFlow, causing nondeterministic deadlocks. For high performance data pipelines tf.data is recommended.\n",
            "52/52 [==============================] - ETA: 0s - loss: 0.1457 - accuracy: 0.9743WARNING:tensorflow:multiprocessing can interact badly with TensorFlow, causing nondeterministic deadlocks. For high performance data pipelines tf.data is recommended.\n",
            "\n",
            "Epoch 00018: val_accuracy did not improve from 0.98750\n",
            "52/52 [==============================] - 16s 301ms/step - loss: 0.1457 - accuracy: 0.9743 - val_loss: 0.4023 - val_accuracy: 0.8750\n",
            "Epoch 19/40\n",
            "WARNING:tensorflow:multiprocessing can interact badly with TensorFlow, causing nondeterministic deadlocks. For high performance data pipelines tf.data is recommended.\n",
            "52/52 [==============================] - ETA: 0s - loss: 0.2232 - accuracy: 0.9510WARNING:tensorflow:multiprocessing can interact badly with TensorFlow, causing nondeterministic deadlocks. For high performance data pipelines tf.data is recommended.\n",
            "\n",
            "Epoch 00019: val_accuracy did not improve from 0.98750\n",
            "52/52 [==============================] - 15s 284ms/step - loss: 0.2232 - accuracy: 0.9510 - val_loss: 0.8610 - val_accuracy: 0.7875\n",
            "Epoch 20/40\n",
            "WARNING:tensorflow:multiprocessing can interact badly with TensorFlow, causing nondeterministic deadlocks. For high performance data pipelines tf.data is recommended.\n",
            "52/52 [==============================] - ETA: 0s - loss: 0.1512 - accuracy: 0.9816WARNING:tensorflow:multiprocessing can interact badly with TensorFlow, causing nondeterministic deadlocks. For high performance data pipelines tf.data is recommended.\n",
            "\n",
            "Epoch 00020: val_accuracy did not improve from 0.98750\n",
            "52/52 [==============================] - 15s 296ms/step - loss: 0.1512 - accuracy: 0.9816 - val_loss: 0.7625 - val_accuracy: 0.7875\n",
            "Epoch 21/40\n",
            "WARNING:tensorflow:multiprocessing can interact badly with TensorFlow, causing nondeterministic deadlocks. For high performance data pipelines tf.data is recommended.\n",
            "52/52 [==============================] - ETA: 0s - loss: 0.1065 - accuracy: 0.9853WARNING:tensorflow:multiprocessing can interact badly with TensorFlow, causing nondeterministic deadlocks. For high performance data pipelines tf.data is recommended.\n",
            "\n",
            "Epoch 00021: val_accuracy did not improve from 0.98750\n",
            "52/52 [==============================] - 15s 292ms/step - loss: 0.1065 - accuracy: 0.9853 - val_loss: 0.1788 - val_accuracy: 0.9875\n",
            "Epoch 22/40\n",
            "WARNING:tensorflow:multiprocessing can interact badly with TensorFlow, causing nondeterministic deadlocks. For high performance data pipelines tf.data is recommended.\n",
            "52/52 [==============================] - ETA: 0s - loss: 0.0992 - accuracy: 0.9902WARNING:tensorflow:multiprocessing can interact badly with TensorFlow, causing nondeterministic deadlocks. For high performance data pipelines tf.data is recommended.\n",
            "\n",
            "Epoch 00022: ReduceLROnPlateau reducing learning rate to 9.999999747378752e-06.\n",
            "\n",
            "Epoch 00022: val_accuracy did not improve from 0.98750\n",
            "52/52 [==============================] - 15s 287ms/step - loss: 0.0992 - accuracy: 0.9902 - val_loss: 0.1900 - val_accuracy: 0.9500\n",
            "Epoch 23/40\n",
            "WARNING:tensorflow:multiprocessing can interact badly with TensorFlow, causing nondeterministic deadlocks. For high performance data pipelines tf.data is recommended.\n",
            "52/52 [==============================] - ETA: 0s - loss: 0.1351 - accuracy: 0.9731WARNING:tensorflow:multiprocessing can interact badly with TensorFlow, causing nondeterministic deadlocks. For high performance data pipelines tf.data is recommended.\n",
            "\n",
            "Epoch 00023: val_accuracy did not improve from 0.98750\n",
            "52/52 [==============================] - 15s 290ms/step - loss: 0.1351 - accuracy: 0.9731 - val_loss: 0.1713 - val_accuracy: 0.9625\n",
            "Epoch 24/40\n",
            "WARNING:tensorflow:multiprocessing can interact badly with TensorFlow, causing nondeterministic deadlocks. For high performance data pipelines tf.data is recommended.\n",
            "52/52 [==============================] - ETA: 0s - loss: 0.1038 - accuracy: 0.9841WARNING:tensorflow:multiprocessing can interact badly with TensorFlow, causing nondeterministic deadlocks. For high performance data pipelines tf.data is recommended.\n",
            "\n",
            "Epoch 00024: val_accuracy did not improve from 0.98750\n",
            "52/52 [==============================] - 15s 294ms/step - loss: 0.1038 - accuracy: 0.9841 - val_loss: 0.0671 - val_accuracy: 0.9875\n",
            "Epoch 25/40\n",
            "WARNING:tensorflow:multiprocessing can interact badly with TensorFlow, causing nondeterministic deadlocks. For high performance data pipelines tf.data is recommended.\n",
            "52/52 [==============================] - ETA: 0s - loss: 0.1021 - accuracy: 0.9841WARNING:tensorflow:multiprocessing can interact badly with TensorFlow, causing nondeterministic deadlocks. For high performance data pipelines tf.data is recommended.\n",
            "\n",
            "Epoch 00025: val_accuracy improved from 0.98750 to 1.00000, saving model to /content/drive/Shared drives/DS4A-T76/DS4A-Team76/models/ResNet50/weights_resnet.hdf5\n",
            "52/52 [==============================] - 18s 347ms/step - loss: 0.1021 - accuracy: 0.9841 - val_loss: 0.0559 - val_accuracy: 1.0000\n",
            "Epoch 26/40\n",
            "WARNING:tensorflow:multiprocessing can interact badly with TensorFlow, causing nondeterministic deadlocks. For high performance data pipelines tf.data is recommended.\n",
            "52/52 [==============================] - ETA: 0s - loss: 0.0884 - accuracy: 0.9853WARNING:tensorflow:multiprocessing can interact badly with TensorFlow, causing nondeterministic deadlocks. For high performance data pipelines tf.data is recommended.\n",
            "\n",
            "Epoch 00026: val_accuracy did not improve from 1.00000\n",
            "52/52 [==============================] - 16s 306ms/step - loss: 0.0884 - accuracy: 0.9853 - val_loss: 0.0503 - val_accuracy: 1.0000\n",
            "Epoch 27/40\n",
            "WARNING:tensorflow:multiprocessing can interact badly with TensorFlow, causing nondeterministic deadlocks. For high performance data pipelines tf.data is recommended.\n",
            "52/52 [==============================] - ETA: 0s - loss: 0.0584 - accuracy: 0.9914WARNING:tensorflow:multiprocessing can interact badly with TensorFlow, causing nondeterministic deadlocks. For high performance data pipelines tf.data is recommended.\n",
            "\n",
            "Epoch 00027: val_accuracy did not improve from 1.00000\n",
            "52/52 [==============================] - 17s 336ms/step - loss: 0.0584 - accuracy: 0.9914 - val_loss: 0.0647 - val_accuracy: 1.0000\n",
            "Epoch 28/40\n",
            "WARNING:tensorflow:multiprocessing can interact badly with TensorFlow, causing nondeterministic deadlocks. For high performance data pipelines tf.data is recommended.\n",
            "52/52 [==============================] - ETA: 0s - loss: 0.1042 - accuracy: 0.9816WARNING:tensorflow:multiprocessing can interact badly with TensorFlow, causing nondeterministic deadlocks. For high performance data pipelines tf.data is recommended.\n",
            "\n",
            "Epoch 00028: val_accuracy did not improve from 1.00000\n",
            "52/52 [==============================] - 15s 284ms/step - loss: 0.1042 - accuracy: 0.9816 - val_loss: 0.0724 - val_accuracy: 0.9875\n",
            "Epoch 29/40\n",
            "WARNING:tensorflow:multiprocessing can interact badly with TensorFlow, causing nondeterministic deadlocks. For high performance data pipelines tf.data is recommended.\n",
            "52/52 [==============================] - ETA: 0s - loss: 0.1015 - accuracy: 0.9706WARNING:tensorflow:multiprocessing can interact badly with TensorFlow, causing nondeterministic deadlocks. For high performance data pipelines tf.data is recommended.\n",
            "\n",
            "Epoch 00029: val_accuracy did not improve from 1.00000\n",
            "52/52 [==============================] - 16s 302ms/step - loss: 0.1015 - accuracy: 0.9706 - val_loss: 0.0439 - val_accuracy: 0.9875\n",
            "Epoch 30/40\n",
            "WARNING:tensorflow:multiprocessing can interact badly with TensorFlow, causing nondeterministic deadlocks. For high performance data pipelines tf.data is recommended.\n",
            "52/52 [==============================] - ETA: 0s - loss: 0.0912 - accuracy: 0.9865WARNING:tensorflow:multiprocessing can interact badly with TensorFlow, causing nondeterministic deadlocks. For high performance data pipelines tf.data is recommended.\n",
            "\n",
            "Epoch 00030: val_accuracy did not improve from 1.00000\n",
            "52/52 [==============================] - 16s 309ms/step - loss: 0.0912 - accuracy: 0.9865 - val_loss: 0.0350 - val_accuracy: 1.0000\n",
            "Epoch 31/40\n",
            "WARNING:tensorflow:multiprocessing can interact badly with TensorFlow, causing nondeterministic deadlocks. For high performance data pipelines tf.data is recommended.\n",
            "52/52 [==============================] - ETA: 0s - loss: 0.0554 - accuracy: 0.9902WARNING:tensorflow:multiprocessing can interact badly with TensorFlow, causing nondeterministic deadlocks. For high performance data pipelines tf.data is recommended.\n",
            "\n",
            "Epoch 00031: val_accuracy did not improve from 1.00000\n",
            "52/52 [==============================] - 16s 303ms/step - loss: 0.0554 - accuracy: 0.9902 - val_loss: 0.0277 - val_accuracy: 1.0000\n",
            "Epoch 32/40\n",
            "WARNING:tensorflow:multiprocessing can interact badly with TensorFlow, causing nondeterministic deadlocks. For high performance data pipelines tf.data is recommended.\n",
            "52/52 [==============================] - ETA: 0s - loss: 0.0903 - accuracy: 0.9914WARNING:tensorflow:multiprocessing can interact badly with TensorFlow, causing nondeterministic deadlocks. For high performance data pipelines tf.data is recommended.\n",
            "\n",
            "Epoch 00032: val_accuracy did not improve from 1.00000\n",
            "52/52 [==============================] - 15s 288ms/step - loss: 0.0903 - accuracy: 0.9914 - val_loss: 0.0828 - val_accuracy: 0.9875\n",
            "Epoch 33/40\n",
            "WARNING:tensorflow:multiprocessing can interact badly with TensorFlow, causing nondeterministic deadlocks. For high performance data pipelines tf.data is recommended.\n",
            "52/52 [==============================] - ETA: 0s - loss: 0.1096 - accuracy: 0.9796WARNING:tensorflow:multiprocessing can interact badly with TensorFlow, causing nondeterministic deadlocks. For high performance data pipelines tf.data is recommended.\n",
            "\n",
            "Epoch 00033: val_accuracy did not improve from 1.00000\n",
            "52/52 [==============================] - 15s 291ms/step - loss: 0.1096 - accuracy: 0.9796 - val_loss: 0.0869 - val_accuracy: 1.0000\n",
            "Epoch 34/40\n",
            "WARNING:tensorflow:multiprocessing can interact badly with TensorFlow, causing nondeterministic deadlocks. For high performance data pipelines tf.data is recommended.\n",
            "52/52 [==============================] - ETA: 0s - loss: 0.0725 - accuracy: 0.9914WARNING:tensorflow:multiprocessing can interact badly with TensorFlow, causing nondeterministic deadlocks. For high performance data pipelines tf.data is recommended.\n",
            "\n",
            "Epoch 00034: val_accuracy did not improve from 1.00000\n",
            "52/52 [==============================] - 15s 295ms/step - loss: 0.0725 - accuracy: 0.9914 - val_loss: 0.0829 - val_accuracy: 0.9750\n",
            "Epoch 35/40\n",
            "WARNING:tensorflow:multiprocessing can interact badly with TensorFlow, causing nondeterministic deadlocks. For high performance data pipelines tf.data is recommended.\n",
            "52/52 [==============================] - ETA: 0s - loss: 0.0905 - accuracy: 0.9865WARNING:tensorflow:multiprocessing can interact badly with TensorFlow, causing nondeterministic deadlocks. For high performance data pipelines tf.data is recommended.\n",
            "\n",
            "Epoch 00035: val_accuracy did not improve from 1.00000\n",
            "52/52 [==============================] - 16s 301ms/step - loss: 0.0905 - accuracy: 0.9865 - val_loss: 0.0203 - val_accuracy: 1.0000\n",
            "Epoch 36/40\n",
            "WARNING:tensorflow:multiprocessing can interact badly with TensorFlow, causing nondeterministic deadlocks. For high performance data pipelines tf.data is recommended.\n",
            "52/52 [==============================] - ETA: 0s - loss: 0.0900 - accuracy: 0.9865WARNING:tensorflow:multiprocessing can interact badly with TensorFlow, causing nondeterministic deadlocks. For high performance data pipelines tf.data is recommended.\n",
            "\n",
            "Epoch 00036: val_accuracy did not improve from 1.00000\n",
            "52/52 [==============================] - 15s 291ms/step - loss: 0.0900 - accuracy: 0.9865 - val_loss: 0.0341 - val_accuracy: 1.0000\n",
            "Epoch 37/40\n",
            "WARNING:tensorflow:multiprocessing can interact badly with TensorFlow, causing nondeterministic deadlocks. For high performance data pipelines tf.data is recommended.\n",
            "52/52 [==============================] - ETA: 0s - loss: 0.1022 - accuracy: 0.9914WARNING:tensorflow:multiprocessing can interact badly with TensorFlow, causing nondeterministic deadlocks. For high performance data pipelines tf.data is recommended.\n",
            "\n",
            "Epoch 00037: val_accuracy did not improve from 1.00000\n",
            "52/52 [==============================] - 15s 292ms/step - loss: 0.1022 - accuracy: 0.9914 - val_loss: 0.0444 - val_accuracy: 0.9875\n",
            "Epoch 38/40\n",
            "WARNING:tensorflow:multiprocessing can interact badly with TensorFlow, causing nondeterministic deadlocks. For high performance data pipelines tf.data is recommended.\n",
            "52/52 [==============================] - ETA: 0s - loss: 0.0724 - accuracy: 0.9829WARNING:tensorflow:multiprocessing can interact badly with TensorFlow, causing nondeterministic deadlocks. For high performance data pipelines tf.data is recommended.\n",
            "\n",
            "Epoch 00038: val_accuracy did not improve from 1.00000\n",
            "52/52 [==============================] - 15s 284ms/step - loss: 0.0724 - accuracy: 0.9829 - val_loss: 0.0379 - val_accuracy: 0.9875\n",
            "Epoch 39/40\n",
            "WARNING:tensorflow:multiprocessing can interact badly with TensorFlow, causing nondeterministic deadlocks. For high performance data pipelines tf.data is recommended.\n",
            "52/52 [==============================] - ETA: 0s - loss: 0.0461 - accuracy: 0.9963WARNING:tensorflow:multiprocessing can interact badly with TensorFlow, causing nondeterministic deadlocks. For high performance data pipelines tf.data is recommended.\n",
            "\n",
            "Epoch 00039: val_accuracy did not improve from 1.00000\n",
            "52/52 [==============================] - 15s 291ms/step - loss: 0.0461 - accuracy: 0.9963 - val_loss: 0.0626 - val_accuracy: 0.9875\n",
            "Epoch 40/40\n",
            "WARNING:tensorflow:multiprocessing can interact badly with TensorFlow, causing nondeterministic deadlocks. For high performance data pipelines tf.data is recommended.\n",
            "52/52 [==============================] - ETA: 0s - loss: 0.1096 - accuracy: 0.9792WARNING:tensorflow:multiprocessing can interact badly with TensorFlow, causing nondeterministic deadlocks. For high performance data pipelines tf.data is recommended.\n",
            "\n",
            "Epoch 00040: ReduceLROnPlateau reducing learning rate to 9.999999747378752e-07.\n",
            "\n",
            "Epoch 00040: val_accuracy did not improve from 1.00000\n",
            "52/52 [==============================] - 15s 287ms/step - loss: 0.1096 - accuracy: 0.9792 - val_loss: 0.0755 - val_accuracy: 0.9875\n"
          ],
          "name": "stdout"
        }
      ]
    },
    {
      "cell_type": "code",
      "metadata": {
        "id": "HN6efdVgF6B_"
      },
      "source": [
        "# Merge history1 and history2\n",
        "history = {}\n",
        "history['loss'] = history1.history['loss'] + history2.history['loss']\n",
        "history['accuracy'] = history1.history['accuracy'] + history2.history['accuracy']\n",
        "history['val_loss'] = history1.history['val_loss'] + history2.history['val_loss']\n",
        "history['val_accuracy'] = history1.history['val_accuracy'] + history2.history['val_accuracy']\n",
        "history['lr'] = history1.history['lr'] + history2.history['lr']"
      ],
      "execution_count": null,
      "outputs": []
    },
    {
      "cell_type": "code",
      "metadata": {
        "id": "219bWP2YF92M",
        "colab": {
          "base_uri": "https://localhost:8080/",
          "height": 335
        },
        "outputId": "0daebc9f-8966-47a5-8a3e-52e42b615d53"
      },
      "source": [
        "# Plot the training graph\n",
        "def plot_training(history):\n",
        "    acc = history['accuracy']\n",
        "    val_acc = history['val_accuracy']\n",
        "    loss = history['loss']\n",
        "    val_loss = history['val_loss']\n",
        "    epochs = range(len(acc))\n",
        "\n",
        "    fig, axes = plt.subplots(1, 2, figsize=(15,5))\n",
        "    \n",
        "    axes[0].plot(epochs, acc, 'r-', label='Training Accuracy')\n",
        "    axes[0].plot(epochs, val_acc, 'b--', label='Validation Accuracy')\n",
        "    axes[0].set_title('Training and Validation Accuracy')\n",
        "    axes[0].legend(loc='best')\n",
        "\n",
        "    axes[1].plot(epochs, loss, 'r-', label='Training Loss')\n",
        "    axes[1].plot(epochs, val_loss, 'b--', label='Validation Loss')\n",
        "    axes[1].set_title('Training and Validation Loss')\n",
        "    axes[1].legend(loc='best')\n",
        "    \n",
        "    plt.show()\n",
        "    \n",
        "plot_training(history)"
      ],
      "execution_count": null,
      "outputs": [
        {
          "output_type": "display_data",
          "data": {
            "image/png": "[encoded data removed]",
            "text/plain": [
              "<Figure size 1080x360 with 2 Axes>"
            ]
          },
          "metadata": {
            "tags": [],
            "needs_background": "light"
          }
        }
      ]
    },
    {
      "cell_type": "markdown",
      "metadata": {
        "id": "1-nueiNzpaqS"
      },
      "source": [
        "## Load Test set\n"
      ]
    },
    {
      "cell_type": "code",
      "metadata": {
        "id": "HnRg1qs-bEZh",
        "colab": {
          "base_uri": "https://localhost:8080/"
        },
        "outputId": "3c46b814-872e-40a7-87e0-d78d847c3a3e"
      },
      "source": [
        "images_dir = dir + '/data/dataset/dataset_split/test'\n",
        "routes_dirs = os.listdir(images_dir)\n",
        "routes_name = routes_top['route']\n",
        "\n",
        "# See if all directories exist\n",
        "for name in routes_name:\n",
        "    if os.path.exists(os.path.join(images_dir, name)):\n",
        "        print(\"Found -->\", os.path.join(images_dir, name))\n",
        "    else:\n",
        "        print(\"Did not find -->\", os.path.join(images_dir, name))"
      ],
      "execution_count": null,
      "outputs": [
        {
          "output_type": "stream",
          "text": [
            "Found --> /content/drive/Shared drives/DS4A-T76/DS4A-Team76/data/dataset/dataset_split/test/655\n",
            "Found --> /content/drive/Shared drives/DS4A-T76/DS4A-Team76/data/dataset/dataset_split/test/277\n",
            "Found --> /content/drive/Shared drives/DS4A-T76/DS4A-Team76/data/dataset/dataset_split/test/654\n",
            "Found --> /content/drive/Shared drives/DS4A-T76/DS4A-Team76/data/dataset/dataset_split/test/172\n",
            "Found --> /content/drive/Shared drives/DS4A-T76/DS4A-Team76/data/dataset/dataset_split/test/280\n",
            "Found --> /content/drive/Shared drives/DS4A-T76/DS4A-Team76/data/dataset/dataset_split/test/272\n",
            "Found --> /content/drive/Shared drives/DS4A-T76/DS4A-Team76/data/dataset/dataset_split/test/295\n",
            "Found --> /content/drive/Shared drives/DS4A-T76/DS4A-Team76/data/dataset/dataset_split/test/634\n",
            "Found --> /content/drive/Shared drives/DS4A-T76/DS4A-Team76/data/dataset/dataset_split/test/170\n",
            "Found --> /content/drive/Shared drives/DS4A-T76/DS4A-Team76/data/dataset/dataset_split/test/169\n",
            "Found --> /content/drive/Shared drives/DS4A-T76/DS4A-Team76/data/dataset/dataset_split/test/281\n",
            "Found --> /content/drive/Shared drives/DS4A-T76/DS4A-Team76/data/dataset/dataset_split/test/656\n",
            "Found --> /content/drive/Shared drives/DS4A-T76/DS4A-Team76/data/dataset/dataset_split/test/653\n",
            "Found --> /content/drive/Shared drives/DS4A-T76/DS4A-Team76/data/dataset/dataset_split/test/584\n",
            "Found --> /content/drive/Shared drives/DS4A-T76/DS4A-Team76/data/dataset/dataset_split/test/585\n"
          ],
          "name": "stdout"
        }
      ]
    },
    {
      "cell_type": "code",
      "metadata": {
        "id": "jesNXK7TahCL",
        "colab": {
          "base_uri": "https://localhost:8080/"
        },
        "outputId": "c62164b6-c88b-40cb-86b9-4014c97d8fc6"
      },
      "source": [
        "test_datagen = ImageDataGenerator(\n",
        "                  rescale=1./255.,\n",
        "                )\n",
        "test_generator = train_datagen.flow_from_directory(directory=images_dir,\n",
        "                        class_mode='categorical',\n",
        "                        target_size=train_input_shape[0:2 ],\n",
        "                        batch_size=1,\n",
        "                        shuffle=False,\n",
        "                        classes=routes_name.tolist()\n",
        "                        )\n"
      ],
      "execution_count": null,
      "outputs": [
        {
          "output_type": "stream",
          "text": [
            "Found 407 images belonging to 15 classes.\n"
          ],
          "name": "stdout"
        }
      ]
    },
    {
      "cell_type": "code",
      "metadata": {
        "id": "lT_xzYuUTFra"
      },
      "source": [
        ""
      ],
      "execution_count": null,
      "outputs": []
    },
    {
      "cell_type": "markdown",
      "metadata": {
        "id": "-U4_zGlgFrPM"
      },
      "source": [
        "## Restnet50"
      ]
    },
    {
      "cell_type": "code",
      "metadata": {
        "id": "onaQYRSnFuHl"
      },
      "source": [
        "# Load weights \n",
        "# run if want to load a model\n",
        "model_dir = dir + \"/models/ResNet50/\"\n",
        "\n",
        "model_resnetv2.load_weights(model_dir + \"weights_resnet.hdf5\")  # Best model weights "
      ],
      "execution_count": null,
      "outputs": []
    },
    {
      "cell_type": "code",
      "metadata": {
        "id": "V9CSpwj4Ozii",
        "colab": {
          "base_uri": "https://localhost:8080/"
        },
        "outputId": "0f66582f-2e80-4805-cab3-a8a27d31a2bc"
      },
      "source": [
        "# Prediction accuracy on test data\n",
        "score = model_resnetv2.evaluate_generator(test_generator, verbose=1)\n",
        "print(\"Prediction accuracy on test data =\", score[1])"
      ],
      "execution_count": null,
      "outputs": [
        {
          "output_type": "stream",
          "text": [
            "WARNING:tensorflow:From <ipython-input-53-0ab81210f4f2>:2: Model.evaluate_generator (from tensorflow.python.keras.engine.training) is deprecated and will be removed in a future version.\n",
            "Instructions for updating:\n",
            "Please use Model.evaluate, which supports generators.\n",
            "407/407 [==============================] - 136s 333ms/step - loss: 0.1059 - accuracy: 0.9803\n",
            "Prediction accuracy on test data = 0.9803439974784851\n"
          ],
          "name": "stdout"
        }
      ]
    },
    {
      "cell_type": "markdown",
      "metadata": {
        "id": "kDmuh5xvUhxb"
      },
      "source": [
        "### Testing with top1 value"
      ]
    },
    {
      "cell_type": "code",
      "metadata": {
        "id": "Zs6Xei1pHJpb",
        "colab": {
          "base_uri": "https://localhost:8080/"
        },
        "outputId": "946b601a-f9c0-4947-e76b-2a8294c8e607"
      },
      "source": [
        "tick_labels = routes_name.tolist()\n",
        "figsize=(30,30)\n",
        "from progressbar import progressbar\n",
        "def showClassficationReport_Generator(model, valid_generator, STEP_SIZE_VALID):\n",
        "    # Loop on each generator batch and predict\n",
        "    #print(\"Making predictions...\", STEP_SIZE_VALID)\n",
        "    y_pred, y_true = [], []\n",
        "    for i in progressbar(range(STEP_SIZE_VALID)):\n",
        "        (X,y) = next(test_generator)\n",
        "        y_pred.append(model.predict(X))\n",
        "        y_true.append(y)\n",
        "    # Create a flat list for y_true and y_pred\n",
        "    y_pred = [subresult for result in y_pred for subresult in result]\n",
        "    y_true = [subresult for result in y_true for subresult in result]\n",
        "\n",
        "    # Update Truth vector based on argmax\n",
        "    y_true = np.argmax(y_true, axis=1)\n",
        "    y_true = np.asarray(y_true).ravel()\n",
        "    \n",
        "    # Update Prediction vector based on argmax\n",
        "    y_pred = np.argmax(y_pred, axis=1)\n",
        "    y_pred = np.asarray(y_pred).ravel()\n",
        "    \n",
        "    # Confusion Matrix\n",
        "\n",
        "    conf_matrix = confusion_matrix(y_true, y_pred, labels=np.arange(n_classes))\n",
        "\n",
        "    conf_matrix = conf_matrix/np.sum(conf_matrix, axis=1)[:,None]\n",
        "    fig, ax = plt.subplots(figsize=(20,20))\n",
        "    sns.heatmap(conf_matrix, annot=True, fmt=\".2f\", square=True, cbar=False, \n",
        "                cmap=plt.cm.jet, xticklabels=tick_labels, yticklabels=tick_labels,\n",
        "                ax=ax)\n",
        "    ax.set_ylabel('Actual')\n",
        "    ax.set_xlabel('Predicted')\n",
        "    ax.set_title('Confusion Matrix')\n",
        "    plt.show()\n",
        "    \n",
        "    #print('Classification Report:')\n",
        "    Class_report = classification_report(y_true, y_pred, labels=np.arange(n_classes), target_names=routes_name.tolist())\n",
        "    return Class_report\n",
        "\n",
        "STEP_SIZE_TEST = test_generator.n//test_generator.batch_size\n",
        "print(\"Test set size: \", STEP_SIZE_TEST)\n"
      ],
      "execution_count": null,
      "outputs": [
        {
          "output_type": "stream",
          "text": [
            "Test set size:  407\n"
          ],
          "name": "stdout"
        }
      ]
    },
    {
      "cell_type": "code",
      "metadata": {
        "id": "ln-XVkQyU2-v"
      },
      "source": [
        "\n",
        "class_report_res_top1 = showClassficationReport_Generator(model_resnetv2, test_generator, STEP_SIZE_TEST)"
      ],
      "execution_count": null,
      "outputs": []
    },
    {
      "cell_type": "code",
      "metadata": {
        "id": "idwOybaVRql1",
        "colab": {
          "base_uri": "https://localhost:8080/"
        },
        "outputId": "819daa62-fd89-4621-eaed-a4efa1dfbf4b"
      },
      "source": [
        "print('Classification Report Resnet50 with Top1 value:')\n",
        "print(class_report_res_top1)"
      ],
      "execution_count": null,
      "outputs": [
        {
          "output_type": "stream",
          "text": [
            "Classification Report Resnet50 with Top1 value:\n",
            "              precision    recall  f1-score   support\n",
            "\n",
            "         655       1.00      0.98      0.99        57\n",
            "         277       1.00      1.00      1.00        46\n",
            "         654       0.93      0.97      0.95        39\n",
            "         172       0.97      1.00      0.99        38\n",
            "         280       1.00      0.97      0.99        38\n",
            "         272       1.00      0.95      0.97        38\n",
            "         295       1.00      0.97      0.98        33\n",
            "         634       1.00      0.96      0.98        28\n",
            "         170       1.00      1.00      1.00        25\n",
            "         169       0.95      1.00      0.98        20\n",
            "         281       0.93      1.00      0.97        14\n",
            "         656       1.00      1.00      1.00        10\n",
            "         653       1.00      0.90      0.95        10\n",
            "         584       0.86      1.00      0.92         6\n",
            "         585       0.67      0.80      0.73         5\n",
            "\n",
            "    accuracy                           0.98       407\n",
            "   macro avg       0.95      0.97      0.96       407\n",
            "weighted avg       0.98      0.98      0.98       407\n",
            "\n"
          ],
          "name": "stdout"
        }
      ]
    },
    {
      "cell_type": "markdown",
      "metadata": {
        "id": "g6Vqu4gVU1tc"
      },
      "source": [
        "# Random Prediction Samples "
      ]
    },
    {
      "cell_type": "code",
      "metadata": {
        "id": "tzDcptkHJN5u",
        "colab": {
          "base_uri": "https://localhost:8080/",
          "height": 1000
        },
        "outputId": "67e4f4c1-fde7-44cd-9b08-d76f11cf170d"
      },
      "source": [
        "# Prediction\n",
        "from keras.preprocessing import *\n",
        "\n",
        "n = 3\n",
        "top_n = 3\n",
        "fig, axes = plt.subplots(n, 3, figsize=(18,7*n))\n",
        "\n",
        "for i in range(n):\n",
        "    random_route = random.choice(routes_name)\n",
        "    random_image = random.choice(os.listdir(os.path.join(images_dir, random_route)))\n",
        "    random_image_file = os.path.join(images_dir, random_route, random_image)\n",
        "\n",
        "    # Original image\n",
        "\n",
        "    test_image = image.load_img(random_image_file, target_size=(train_input_shape[0:2]))\n",
        "\n",
        "    # Predict artist\n",
        "    test_image = image.img_to_array(test_image)\n",
        "    test_image /= 255.\n",
        "    test_image = np.expand_dims(test_image, axis=0)\n",
        "\n",
        "    prediction = model_resnetv2.predict(test_image)\n",
        "    prediction_probability = np.amax(prediction)\n",
        "    prediction_idx = np.argmax(prediction)\n",
        "\n",
        "    labels = train_generator.class_indices\n",
        "    labels = dict((v,k) for k,v in labels.items())\n",
        "\n",
        "    title = \"Actual route = {}\\nPredicted route = {}\\nPrediction probability = {:.2f} %\" \\\n",
        "                .format(random_route, labels[prediction_idx],\n",
        "                        prediction_probability*100)\n",
        "    axes[i][1].text(0,0.5,title,fontsize=15,family='serif')\n",
        "    axes[i][1].axis('off')\n",
        "\n",
        "\n",
        "    axes[i][0].imshow(plt.imread(random_image_file))\n",
        "\n",
        "\n",
        "    axes[i][0].axis('off')\n",
        "\n",
        "    top = list(enumerate(prediction[0]))\n",
        "    top.sort(key= lambda x: x[1],reverse=True)\n",
        "    probas = [p[1] for p in top[:top_n]]\n",
        "    names = [labels[p[0] ]for p in top[:top_n]]\n",
        "\n",
        "    x = np.arange(top_n)\n",
        "    axes[i][2].bar(x,probas)\n",
        "    axes[i][2].set_xticks(x)\n",
        "    axes[i][2].set_xticklabels(names,rotation=15)\n",
        "plt.savefig(\"abc.png\")\n",
        "plt.show()"
      ],
      "execution_count": null,
      "outputs": [
        {
          "output_type": "display_data",
          "data": {
            "image/png": "[encoded data removed]",
            "text/plain": [
              "<Figure size 1296x1512 with 9 Axes>"
            ]
          },
          "metadata": {
            "tags": [],
            "needs_background": "light"
          }
        }
      ]
    },
    {
      "cell_type": "code",
      "metadata": {
        "id": "Tv-zhgGGLwsu",
        "colab": {
          "base_uri": "https://localhost:8080/"
        },
        "outputId": "d3ec5d3a-5e68-488e-d50e-322f051f9af5"
      },
      "source": [
        "\n",
        "labels = train_generator.class_indices\n",
        "labels = dict((v,k) for k,v in labels.items())\n",
        "labels"
      ],
      "execution_count": null,
      "outputs": [
        {
          "output_type": "execute_result",
          "data": {
            "text/plain": [
              "{0: '655',\n",
              " 1: '277',\n",
              " 2: '654',\n",
              " 3: '172',\n",
              " 4: '280',\n",
              " 5: '272',\n",
              " 6: '295',\n",
              " 7: '634',\n",
              " 8: '170',\n",
              " 9: '169',\n",
              " 10: '281',\n",
              " 11: '656',\n",
              " 12: '653',\n",
              " 13: '584',\n",
              " 14: '585'}"
            ]
          },
          "metadata": {
            "tags": []
          },
          "execution_count": 49
        }
      ]
    },
    {
      "cell_type": "code",
      "metadata": {
        "id": "Ijn09sUqI8M4"
      },
      "source": [
        "simple_model = Sequential()\n",
        "simple_model.add(Conv2D(32, (3, 3), activation='relu', kernel_initializer='he_uniform', input_shape=[224, 224, 3]))\n",
        "simple_model.add(MaxPooling2D((2, 2)))\n",
        "simple_model.add(Flatten())\n",
        "simple_model.add(Dense(100, activation='relu', kernel_initializer='he_uniform'))\n",
        "simple_model.add(Dense(n_classes, activation='softmax'))\n",
        "# compile model\n",
        "opt = SGD(lr=0.01, momentum=0.9)\n",
        "simple_model.compile(optimizer=opt, loss='categorical_crossentropy', metrics=['accuracy'])"
      ],
      "execution_count": null,
      "outputs": []
    },
    {
      "cell_type": "code",
      "metadata": {
        "id": "31rjqPviK9hK",
        "colab": {
          "base_uri": "https://localhost:8080/"
        },
        "outputId": "b646877a-2407-4a62-e09d-a54959465054"
      },
      "source": [
        "base_model.input.shape"
      ],
      "execution_count": null,
      "outputs": [
        {
          "output_type": "execute_result",
          "data": {
            "text/plain": [
              "TensorShape([None, 224, 224, 3])"
            ]
          },
          "metadata": {
            "tags": []
          },
          "execution_count": 78
        }
      ]
    },
    {
      "cell_type": "markdown",
      "metadata": {
        "id": "moDdJCePopge"
      },
      "source": [
        "#Simple Model\n",
        "\n",
        "Now we want to try a simpler model with 5 layers. And with no pretrained networks nor data augmentation\n",
        "\n"
      ]
    },
    {
      "cell_type": "code",
      "metadata": {
        "id": "0Q1g1TavKI5R",
        "colab": {
          "base_uri": "https://localhost:8080/"
        },
        "outputId": "81e84f42-4451-4d61-ed55-68b8a0c1d1f0"
      },
      "source": [
        "simple_model.summary()"
      ],
      "execution_count": null,
      "outputs": [
        {
          "output_type": "stream",
          "text": [
            "Model: \"sequential_3\"\n",
            "_________________________________________________________________\n",
            "Layer (type)                 Output Shape              Param #   \n",
            "=================================================================\n",
            "conv2d_3 (Conv2D)            (None, 222, 222, 32)      896       \n",
            "_________________________________________________________________\n",
            "max_pooling2d_3 (MaxPooling2 (None, 111, 111, 32)      0         \n",
            "_________________________________________________________________\n",
            "flatten_4 (Flatten)          (None, 394272)            0         \n",
            "_________________________________________________________________\n",
            "dense_9 (Dense)              (None, 100)               39427300  \n",
            "_________________________________________________________________\n",
            "dense_10 (Dense)             (None, 15)                1515      \n",
            "=================================================================\n",
            "Total params: 39,429,711\n",
            "Trainable params: 39,429,711\n",
            "Non-trainable params: 0\n",
            "_________________________________________________________________\n"
          ],
          "name": "stdout"
        }
      ]
    },
    {
      "cell_type": "code",
      "metadata": {
        "id": "YS2HUja8J_2l",
        "colab": {
          "base_uri": "https://localhost:8080/"
        },
        "outputId": "5a4e2da8-acc3-40c6-b08e-48df331c1649"
      },
      "source": [
        "\n",
        "n_epoch = 10\n",
        "history_sm = simple_model.fit_generator(generator=train_generator, steps_per_epoch=STEP_SIZE_TRAIN,\n",
        "                              validation_data=valid_generator, validation_steps=STEP_SIZE_VALID,\n",
        "                              epochs=n_epoch,\n",
        "                              shuffle=True,\n",
        "                              verbose=1,                      \n",
        "                              use_multiprocessing=True,\n",
        "                              workers=16,\n",
        "                             )"
      ],
      "execution_count": null,
      "outputs": [
        {
          "output_type": "stream",
          "text": [
            "Epoch 1/10\n",
            "WARNING:tensorflow:multiprocessing can interact badly with TensorFlow, causing nondeterministic deadlocks. For high performance data pipelines tf.data is recommended.\n",
            "52/52 [==============================] - ETA: 0s - loss: 4.5857 - accuracy: 0.7785WARNING:tensorflow:multiprocessing can interact badly with TensorFlow, causing nondeterministic deadlocks. For high performance data pipelines tf.data is recommended.\n",
            "52/52 [==============================] - 7s 134ms/step - loss: 4.5857 - accuracy: 0.7785 - val_loss: 0.0085 - val_accuracy: 1.0000\n",
            "Epoch 2/10\n",
            "WARNING:tensorflow:multiprocessing can interact badly with TensorFlow, causing nondeterministic deadlocks. For high performance data pipelines tf.data is recommended.\n",
            "52/52 [==============================] - ETA: 0s - loss: 0.0035 - accuracy: 1.0000WARNING:tensorflow:multiprocessing can interact badly with TensorFlow, causing nondeterministic deadlocks. For high performance data pipelines tf.data is recommended.\n",
            "52/52 [==============================] - 7s 130ms/step - loss: 0.0035 - accuracy: 1.0000 - val_loss: 3.7818e-04 - val_accuracy: 1.0000\n",
            "Epoch 3/10\n",
            "WARNING:tensorflow:multiprocessing can interact badly with TensorFlow, causing nondeterministic deadlocks. For high performance data pipelines tf.data is recommended.\n",
            "52/52 [==============================] - ETA: 0s - loss: 3.0063e-04 - accuracy: 1.0000WARNING:tensorflow:multiprocessing can interact badly with TensorFlow, causing nondeterministic deadlocks. For high performance data pipelines tf.data is recommended.\n",
            "52/52 [==============================] - 7s 128ms/step - loss: 3.0063e-04 - accuracy: 1.0000 - val_loss: 3.3040e-04 - val_accuracy: 1.0000\n",
            "Epoch 4/10\n",
            "WARNING:tensorflow:multiprocessing can interact badly with TensorFlow, causing nondeterministic deadlocks. For high performance data pipelines tf.data is recommended.\n",
            "52/52 [==============================] - ETA: 0s - loss: 1.1559e-04 - accuracy: 1.0000WARNING:tensorflow:multiprocessing can interact badly with TensorFlow, causing nondeterministic deadlocks. For high performance data pipelines tf.data is recommended.\n",
            "52/52 [==============================] - 8s 153ms/step - loss: 1.1559e-04 - accuracy: 1.0000 - val_loss: 2.9750e-04 - val_accuracy: 1.0000\n",
            "Epoch 5/10\n",
            "WARNING:tensorflow:multiprocessing can interact badly with TensorFlow, causing nondeterministic deadlocks. For high performance data pipelines tf.data is recommended.\n",
            "51/52 [============================>.] - ETA: 0s - loss: 1.1580e-04 - accuracy: 1.0000WARNING:tensorflow:multiprocessing can interact badly with TensorFlow, causing nondeterministic deadlocks. For high performance data pipelines tf.data is recommended.\n",
            "52/52 [==============================] - 7s 129ms/step - loss: 1.1378e-04 - accuracy: 1.0000 - val_loss: 1.7260e-04 - val_accuracy: 1.0000\n",
            "Epoch 6/10\n",
            "WARNING:tensorflow:multiprocessing can interact badly with TensorFlow, causing nondeterministic deadlocks. For high performance data pipelines tf.data is recommended.\n",
            "51/52 [============================>.] - ETA: 0s - loss: 9.7172e-05 - accuracy: 1.0000WARNING:tensorflow:multiprocessing can interact badly with TensorFlow, causing nondeterministic deadlocks. For high performance data pipelines tf.data is recommended.\n",
            "52/52 [==============================] - 7s 127ms/step - loss: 9.5353e-05 - accuracy: 1.0000 - val_loss: 2.5041e-04 - val_accuracy: 1.0000\n",
            "Epoch 7/10\n",
            "WARNING:tensorflow:multiprocessing can interact badly with TensorFlow, causing nondeterministic deadlocks. For high performance data pipelines tf.data is recommended.\n",
            "51/52 [============================>.] - ETA: 0s - loss: 8.0647e-05 - accuracy: 1.0000WARNING:tensorflow:multiprocessing can interact badly with TensorFlow, causing nondeterministic deadlocks. For high performance data pipelines tf.data is recommended.\n",
            "52/52 [==============================] - 7s 127ms/step - loss: 8.2191e-05 - accuracy: 1.0000 - val_loss: 1.9457e-04 - val_accuracy: 1.0000\n",
            "Epoch 8/10\n",
            "WARNING:tensorflow:multiprocessing can interact badly with TensorFlow, causing nondeterministic deadlocks. For high performance data pipelines tf.data is recommended.\n",
            "51/52 [============================>.] - ETA: 0s - loss: 7.4008e-05 - accuracy: 1.0000WARNING:tensorflow:multiprocessing can interact badly with TensorFlow, causing nondeterministic deadlocks. For high performance data pipelines tf.data is recommended.\n",
            "52/52 [==============================] - 7s 125ms/step - loss: 7.2683e-05 - accuracy: 1.0000 - val_loss: 1.9312e-04 - val_accuracy: 1.0000\n",
            "Epoch 9/10\n",
            "WARNING:tensorflow:multiprocessing can interact badly with TensorFlow, causing nondeterministic deadlocks. For high performance data pipelines tf.data is recommended.\n",
            "52/52 [==============================] - ETA: 0s - loss: 6.3930e-05 - accuracy: 1.0000WARNING:tensorflow:multiprocessing can interact badly with TensorFlow, causing nondeterministic deadlocks. For high performance data pipelines tf.data is recommended.\n",
            "52/52 [==============================] - 6s 125ms/step - loss: 6.3930e-05 - accuracy: 1.0000 - val_loss: 2.0989e-04 - val_accuracy: 1.0000\n",
            "Epoch 10/10\n",
            "WARNING:tensorflow:multiprocessing can interact badly with TensorFlow, causing nondeterministic deadlocks. For high performance data pipelines tf.data is recommended.\n",
            "52/52 [==============================] - ETA: 0s - loss: 5.9279e-05 - accuracy: 1.0000WARNING:tensorflow:multiprocessing can interact badly with TensorFlow, causing nondeterministic deadlocks. For high performance data pipelines tf.data is recommended.\n",
            "52/52 [==============================] - 7s 126ms/step - loss: 5.9279e-05 - accuracy: 1.0000 - val_loss: 1.9944e-04 - val_accuracy: 1.0000\n"
          ],
          "name": "stdout"
        }
      ]
    },
    {
      "cell_type": "code",
      "metadata": {
        "id": "C0vitYFSXTun",
        "colab": {
          "base_uri": "https://localhost:8080/"
        },
        "outputId": "25a17b7c-e626-4186-e7d8-2456d71903f7"
      },
      "source": [
        "score = simple_model.evaluate_generator(test_generator, verbose=1)\n",
        "print(\"Prediction accuracy on test data =\", score[1])"
      ],
      "execution_count": null,
      "outputs": [
        {
          "output_type": "stream",
          "text": [
            "407/407 [==============================] - 4s 9ms/step - loss: 0.0177 - accuracy: 0.9951\n",
            "Prediction accuracy on test data = 0.9950860142707825\n"
          ],
          "name": "stdout"
        }
      ]
    },
    {
      "cell_type": "code",
      "metadata": {
        "id": "XTZDCGJtXbgs",
        "colab": {
          "base_uri": "https://localhost:8080/",
          "height": 1000
        },
        "outputId": "80201992-6097-4ae0-ad45-f4b2ce1ad70d"
      },
      "source": [
        "class_report_res_sm = showClassficationReport_Generator(simple_model, test_generator, STEP_SIZE_TEST)"
      ],
      "execution_count": null,
      "outputs": [
        {
          "output_type": "stream",
          "text": [
            "100% (407 of 407) |######################| Elapsed Time: 0:00:16 Time:  0:00:16\n"
          ],
          "name": "stderr"
        },
        {
          "output_type": "display_data",
          "data": {
            "image/png": "[encoded data removed]",
            "text/plain": [
              "<Figure size 1440x1440 with 1 Axes>"
            ]
          },
          "metadata": {
            "tags": [],
            "needs_background": "light"
          }
        }
      ]
    },
    {
      "cell_type": "code",
      "metadata": {
        "id": "3M5Hu1JeXg4c",
        "colab": {
          "base_uri": "https://localhost:8080/"
        },
        "outputId": "81703ba1-feac-46ea-8865-34207ecc4e41"
      },
      "source": [
        "print('Classification Report SimpleModel with Top1 value:')\n",
        "print(class_report_res_sm)"
      ],
      "execution_count": null,
      "outputs": [
        {
          "output_type": "stream",
          "text": [
            "Classification Report SimpleModel with Top1 value:\n",
            "              precision    recall  f1-score   support\n",
            "\n",
            "         655       1.00      1.00      1.00        57\n",
            "         277       1.00      1.00      1.00        46\n",
            "         654       1.00      1.00      1.00        39\n",
            "         172       1.00      1.00      1.00        38\n",
            "         280       1.00      1.00      1.00        38\n",
            "         272       1.00      0.97      0.99        38\n",
            "         295       0.97      1.00      0.99        33\n",
            "         634       1.00      1.00      1.00        28\n",
            "         170       1.00      1.00      1.00        25\n",
            "         169       1.00      1.00      1.00        20\n",
            "         281       0.93      0.93      0.93        14\n",
            "         656       1.00      1.00      1.00        10\n",
            "         653       1.00      1.00      1.00        10\n",
            "         584       1.00      1.00      1.00         6\n",
            "         585       1.00      1.00      1.00         5\n",
            "\n",
            "    accuracy                           1.00       407\n",
            "   macro avg       0.99      0.99      0.99       407\n",
            "weighted avg       1.00      1.00      1.00       407\n",
            "\n"
          ],
          "name": "stdout"
        }
      ]
    },
    {
      "cell_type": "code",
      "metadata": {
        "id": "Pa4cGxjLN4rj"
      },
      "source": [
        "simple_model2 = Sequential()\n",
        "simple_model2.add(Conv2D(20, (10, 10), activation='relu', input_shape=[150, 150, 3]))\n",
        "simple_model2.add(Dense(100, activation='relu'))\n",
        "simple_model2.add(MaxPooling2D((2, 2)))\n",
        "simple_model2.add(Flatten())\n",
        "simple_model2.add(Dense(n_classes, activation='softmax'))\n",
        "# compile model\n",
        "opt = SGD(lr=0.001)\n",
        "simple_model2.compile(optimizer=opt, loss='categorical_crossentropy', metrics=['accuracy'])"
      ],
      "execution_count": null,
      "outputs": []
    },
    {
      "cell_type": "code",
      "metadata": {
        "id": "zmDf95vLPwI_",
        "colab": {
          "base_uri": "https://localhost:8080/"
        },
        "outputId": "9ddba022-a1ff-4917-b0e1-62a40aed82d4"
      },
      "source": [
        "simple_model2.summary()"
      ],
      "execution_count": null,
      "outputs": [
        {
          "output_type": "stream",
          "text": [
            "Model: \"sequential_1\"\n",
            "_________________________________________________________________\n",
            "Layer (type)                 Output Shape              Param #   \n",
            "=================================================================\n",
            "conv2d_23 (Conv2D)           (None, 91, 91, 20)        6020      \n",
            "_________________________________________________________________\n",
            "dense_2 (Dense)              (None, 91, 91, 100)       2100      \n",
            "_________________________________________________________________\n",
            "max_pooling2d_1 (MaxPooling2 (None, 45, 45, 100)       0         \n",
            "_________________________________________________________________\n",
            "flatten_1 (Flatten)          (None, 202500)            0         \n",
            "_________________________________________________________________\n",
            "dense_3 (Dense)              (None, 15)                3037515   \n",
            "=================================================================\n",
            "Total params: 3,045,635\n",
            "Trainable params: 3,045,635\n",
            "Non-trainable params: 0\n",
            "_________________________________________________________________\n"
          ],
          "name": "stdout"
        }
      ]
    },
    {
      "cell_type": "code",
      "metadata": {
        "id": "WutR-vgMnqfb"
      },
      "source": [
        ""
      ],
      "execution_count": null,
      "outputs": []
    },
    {
      "cell_type": "code",
      "metadata": {
        "id": "77_OywMnnqwD",
        "colab": {
          "base_uri": "https://localhost:8080/"
        },
        "outputId": "2dbd6c45-3713-4fd3-894f-4b6da13efda3"
      },
      "source": [
        "images_dir = dir + '/data/dataset/dataset_split/test'\n",
        "routes_dirs = os.listdir(images_dir)\n",
        "routes_name = routes_top['route']\n",
        "\n",
        "# See if all directories exist\n",
        "for name in routes_name:\n",
        "    if os.path.exists(os.path.join(images_dir, name)):\n",
        "        print(\"Found -->\", os.path.join(images_dir, name))\n",
        "    else:\n",
        "        print(\"Did not find -->\", os.path.join(images_dir, name))"
      ],
      "execution_count": null,
      "outputs": [
        {
          "output_type": "stream",
          "text": [
            "Found --> /content/drive/Shared drives/DS4A-T76/DS4A-Team76/data/dataset/dataset_split/test/655\n",
            "Found --> /content/drive/Shared drives/DS4A-T76/DS4A-Team76/data/dataset/dataset_split/test/277\n",
            "Found --> /content/drive/Shared drives/DS4A-T76/DS4A-Team76/data/dataset/dataset_split/test/654\n",
            "Found --> /content/drive/Shared drives/DS4A-T76/DS4A-Team76/data/dataset/dataset_split/test/172\n",
            "Found --> /content/drive/Shared drives/DS4A-T76/DS4A-Team76/data/dataset/dataset_split/test/280\n",
            "Found --> /content/drive/Shared drives/DS4A-T76/DS4A-Team76/data/dataset/dataset_split/test/272\n",
            "Found --> /content/drive/Shared drives/DS4A-T76/DS4A-Team76/data/dataset/dataset_split/test/295\n",
            "Found --> /content/drive/Shared drives/DS4A-T76/DS4A-Team76/data/dataset/dataset_split/test/634\n",
            "Found --> /content/drive/Shared drives/DS4A-T76/DS4A-Team76/data/dataset/dataset_split/test/170\n",
            "Found --> /content/drive/Shared drives/DS4A-T76/DS4A-Team76/data/dataset/dataset_split/test/169\n",
            "Found --> /content/drive/Shared drives/DS4A-T76/DS4A-Team76/data/dataset/dataset_split/test/281\n",
            "Found --> /content/drive/Shared drives/DS4A-T76/DS4A-Team76/data/dataset/dataset_split/test/656\n",
            "Found --> /content/drive/Shared drives/DS4A-T76/DS4A-Team76/data/dataset/dataset_split/test/653\n",
            "Found --> /content/drive/Shared drives/DS4A-T76/DS4A-Team76/data/dataset/dataset_split/test/584\n",
            "Found --> /content/drive/Shared drives/DS4A-T76/DS4A-Team76/data/dataset/dataset_split/test/585\n"
          ],
          "name": "stdout"
        }
      ]
    },
    {
      "cell_type": "code",
      "metadata": {
        "id": "wTmeNWo_TKFu",
        "colab": {
          "base_uri": "https://localhost:8080/"
        },
        "outputId": "4100102f-4b14-4a77-cc48-604f9c5785f2"
      },
      "source": [
        "test_datagen = ImageDataGenerator(\n",
        "                  rescale=1./255.,\n",
        "                )\n",
        "test_generator = train_datagen.flow_from_directory(directory=images_dir,\n",
        "                        class_mode='categorical',\n",
        "                        target_size=train_input_shape[0:2],\n",
        "                        batch_size=1,\n",
        "                        shuffle=False,\n",
        "                        classes=routes_name.tolist()\n",
        "                        )"
      ],
      "execution_count": null,
      "outputs": [
        {
          "output_type": "stream",
          "text": [
            "Found 407 images belonging to 15 classes.\n"
          ],
          "name": "stdout"
        }
      ]
    },
    {
      "cell_type": "code",
      "metadata": {
        "id": "QLn_Rph2S8rC",
        "colab": {
          "base_uri": "https://localhost:8080/"
        },
        "outputId": "c06c6dbc-f75a-4eb6-a69e-16e2eb61ea4f"
      },
      "source": [
        "%%time\n",
        "batch_size = 16\n",
        "train_input_shape = (150, 150, 3\n",
        "                     )\n",
        "n_classes = routes_top.shape[0]\n",
        "\n",
        "train_datagen = ImageDataGenerator(validation_split=0.1,\n",
        "                  rescale=1./255.,\n",
        "                )\n",
        "\n",
        "train_generator = train_datagen.flow_from_directory(directory=train_dir,\n",
        "                        class_mode='categorical',\n",
        "                        target_size=train_input_shape[0:2],\n",
        "                        batch_size=batch_size,\n",
        "                        subset=\"training\",\n",
        "                        shuffle=True,\n",
        "                        classes=routes_name.tolist()\n",
        "                        )\n",
        "\n",
        "valid_generator = train_datagen.flow_from_directory(directory=train_dir,\n",
        "                        class_mode='categorical',\n",
        "                        target_size=train_input_shape[0:2],\n",
        "                        batch_size=batch_size,\n",
        "                        subset=\"validation\",\n",
        "                        shuffle=True,\n",
        "                        classes=routes_name.tolist()\n",
        "                        )\n",
        "\n",
        "STEP_SIZE_TRAIN = train_generator.n//train_generator.batch_size\n",
        "STEP_SIZE_VALID = valid_generator.n//valid_generator.batch_size\n",
        "print(\"Total number of batches =\", STEP_SIZE_TRAIN,\" for training and \", STEP_SIZE_VALID, \"for validation\")"
      ],
      "execution_count": null,
      "outputs": [
        {
          "output_type": "stream",
          "text": [
            "Found 833 images belonging to 15 classes.\n",
            "Found 86 images belonging to 15 classes.\n",
            "Total number of batches = 52  for training and  5 for validation\n",
            "CPU times: user 28.6 ms, sys: 12.6 ms, total: 41.1 ms\n",
            "Wall time: 212 ms\n"
          ],
          "name": "stdout"
        }
      ]
    },
    {
      "cell_type": "code",
      "metadata": {
        "id": "JI6LiYWxoux-"
      },
      "source": [
        ""
      ],
      "execution_count": null,
      "outputs": []
    },
    {
      "cell_type": "markdown",
      "metadata": {
        "id": "1AvORpWpovA2"
      },
      "source": [
        "##Training\n"
      ]
    },
    {
      "cell_type": "code",
      "metadata": {
        "id": "n7RoubbYQNCa",
        "colab": {
          "base_uri": "https://localhost:8080/"
        },
        "outputId": "d412e5c5-3ca3-4db0-e2f7-dad979955a2b"
      },
      "source": [
        "%%time \n",
        "n_epoch = 10\n",
        "history_sm = simple_model2.fit_generator(generator=train_generator, steps_per_epoch=STEP_SIZE_TRAIN,\n",
        "                              validation_data=valid_generator, validation_steps=STEP_SIZE_VALID,\n",
        "                              epochs=n_epoch,\n",
        "                              shuffle=True,\n",
        "                              verbose=1,                      \n",
        "                              use_multiprocessing=True,\n",
        "                              workers=16,\n",
        "                             )"
      ],
      "execution_count": null,
      "outputs": [
        {
          "output_type": "stream",
          "text": [
            "Epoch 1/10\n",
            "WARNING:tensorflow:multiprocessing can interact badly with TensorFlow, causing nondeterministic deadlocks. For high performance data pipelines tf.data is recommended.\n",
            "51/52 [============================>.] - ETA: 0s - loss: 2.4012 - accuracy: 0.2409WARNING:tensorflow:multiprocessing can interact badly with TensorFlow, causing nondeterministic deadlocks. For high performance data pipelines tf.data is recommended.\n",
            "52/52 [==============================] - 6s 108ms/step - loss: 2.3968 - accuracy: 0.2521 - val_loss: 2.0850 - val_accuracy: 0.7250\n",
            "Epoch 2/10\n",
            "WARNING:tensorflow:multiprocessing can interact badly with TensorFlow, causing nondeterministic deadlocks. For high performance data pipelines tf.data is recommended.\n",
            "52/52 [==============================] - ETA: 0s - loss: 1.9492 - accuracy: 0.6389WARNING:tensorflow:multiprocessing can interact badly with TensorFlow, causing nondeterministic deadlocks. For high performance data pipelines tf.data is recommended.\n",
            "52/52 [==============================] - 5s 104ms/step - loss: 1.9492 - accuracy: 0.6389 - val_loss: 1.7154 - val_accuracy: 0.7375\n",
            "Epoch 3/10\n",
            "WARNING:tensorflow:multiprocessing can interact badly with TensorFlow, causing nondeterministic deadlocks. For high performance data pipelines tf.data is recommended.\n",
            "52/52 [==============================] - ETA: 0s - loss: 1.5114 - accuracy: 0.7882WARNING:tensorflow:multiprocessing can interact badly with TensorFlow, causing nondeterministic deadlocks. For high performance data pipelines tf.data is recommended.\n",
            "52/52 [==============================] - 5s 105ms/step - loss: 1.5114 - accuracy: 0.7882 - val_loss: 1.3367 - val_accuracy: 0.8500\n",
            "Epoch 4/10\n",
            "WARNING:tensorflow:multiprocessing can interact badly with TensorFlow, causing nondeterministic deadlocks. For high performance data pipelines tf.data is recommended.\n",
            "52/52 [==============================] - ETA: 0s - loss: 1.1343 - accuracy: 0.8262WARNING:tensorflow:multiprocessing can interact badly with TensorFlow, causing nondeterministic deadlocks. For high performance data pipelines tf.data is recommended.\n",
            "52/52 [==============================] - 5s 100ms/step - loss: 1.1343 - accuracy: 0.8262 - val_loss: 0.8965 - val_accuracy: 0.9250\n",
            "Epoch 5/10\n",
            "WARNING:tensorflow:multiprocessing can interact badly with TensorFlow, causing nondeterministic deadlocks. For high performance data pipelines tf.data is recommended.\n",
            "51/52 [============================>.] - ETA: 0s - loss: 0.8377 - accuracy: 0.9039WARNING:tensorflow:multiprocessing can interact badly with TensorFlow, causing nondeterministic deadlocks. For high performance data pipelines tf.data is recommended.\n",
            "52/52 [==============================] - 5s 104ms/step - loss: 0.8360 - accuracy: 0.9045 - val_loss: 0.6806 - val_accuracy: 0.9125\n",
            "Epoch 6/10\n",
            "WARNING:tensorflow:multiprocessing can interact badly with TensorFlow, causing nondeterministic deadlocks. For high performance data pipelines tf.data is recommended.\n",
            "51/52 [============================>.] - ETA: 0s - loss: 0.6153 - accuracy: 0.9538WARNING:tensorflow:multiprocessing can interact badly with TensorFlow, causing nondeterministic deadlocks. For high performance data pipelines tf.data is recommended.\n",
            "52/52 [==============================] - 5s 103ms/step - loss: 0.6125 - accuracy: 0.9547 - val_loss: 0.4874 - val_accuracy: 0.9500\n",
            "Epoch 7/10\n",
            "WARNING:tensorflow:multiprocessing can interact badly with TensorFlow, causing nondeterministic deadlocks. For high performance data pipelines tf.data is recommended.\n",
            "52/52 [==============================] - ETA: 0s - loss: 0.4611 - accuracy: 0.9633WARNING:tensorflow:multiprocessing can interact badly with TensorFlow, causing nondeterministic deadlocks. For high performance data pipelines tf.data is recommended.\n",
            "52/52 [==============================] - 5s 102ms/step - loss: 0.4611 - accuracy: 0.9633 - val_loss: 0.3846 - val_accuracy: 0.9875\n",
            "Epoch 8/10\n",
            "WARNING:tensorflow:multiprocessing can interact badly with TensorFlow, causing nondeterministic deadlocks. For high performance data pipelines tf.data is recommended.\n",
            "52/52 [==============================] - ETA: 0s - loss: 0.3498 - accuracy: 0.9780WARNING:tensorflow:multiprocessing can interact badly with TensorFlow, causing nondeterministic deadlocks. For high performance data pipelines tf.data is recommended.\n",
            "52/52 [==============================] - 5s 105ms/step - loss: 0.3498 - accuracy: 0.9780 - val_loss: 0.2937 - val_accuracy: 0.9875\n",
            "Epoch 9/10\n",
            "WARNING:tensorflow:multiprocessing can interact badly with TensorFlow, causing nondeterministic deadlocks. For high performance data pipelines tf.data is recommended.\n",
            "52/52 [==============================] - ETA: 0s - loss: 0.2819 - accuracy: 0.9755WARNING:tensorflow:multiprocessing can interact badly with TensorFlow, causing nondeterministic deadlocks. For high performance data pipelines tf.data is recommended.\n",
            "52/52 [==============================] - 5s 105ms/step - loss: 0.2819 - accuracy: 0.9755 - val_loss: 0.2380 - val_accuracy: 1.0000\n",
            "Epoch 10/10\n",
            "WARNING:tensorflow:multiprocessing can interact badly with TensorFlow, causing nondeterministic deadlocks. For high performance data pipelines tf.data is recommended.\n",
            "52/52 [==============================] - ETA: 0s - loss: 0.2224 - accuracy: 0.9865WARNING:tensorflow:multiprocessing can interact badly with TensorFlow, causing nondeterministic deadlocks. For high performance data pipelines tf.data is recommended.\n",
            "52/52 [==============================] - 5s 105ms/step - loss: 0.2224 - accuracy: 0.9865 - val_loss: 0.1865 - val_accuracy: 1.0000\n",
            "CPU times: user 9.56 s, sys: 12.1 s, total: 21.6 s\n",
            "Wall time: 1min 14s\n"
          ],
          "name": "stdout"
        }
      ]
    },
    {
      "cell_type": "code",
      "metadata": {
        "id": "dHizvtQOozTP"
      },
      "source": [
        ""
      ],
      "execution_count": null,
      "outputs": []
    },
    {
      "cell_type": "code",
      "metadata": {
        "id": "VYSgtA_lnYjI",
        "colab": {
          "base_uri": "https://localhost:8080/"
        },
        "outputId": "4dac0551-872f-4d02-eca9-1d85d3943f87"
      },
      "source": [
        "%tensorflow_version 2.x\n",
        "import tensorflow as tf\n",
        "import timeit\n",
        "\n",
        "device_name = tf.test.gpu_device_name()\n",
        "if device_name != '/device:GPU:0':\n",
        "  print(\n",
        "      '\\n\\nThis error most likely means that this notebook is not '\n",
        "      'configured to use a GPU.  Change this in Notebook Settings via the '\n",
        "      'command palette (cmd/ctrl-shift-P) or the Edit menu.\\n\\n')\n",
        "  raise SystemError('GPU device not found')\n",
        "\n",
        "def cpu():\n",
        "  with tf.device('/cpu:0'):\n",
        "    random_image_cpu = tf.random.normal((100, 100, 100, 3))\n",
        "    net_cpu = tf.keras.layers.Conv2D(32, 7)(random_image_cpu)\n",
        "    return tf.math.reduce_sum(net_cpu)\n",
        "\n",
        "def gpu():\n",
        "  with tf.device('/device:GPU:0'):\n",
        "    random_image_gpu = tf.random.normal((100, 100, 100, 3))\n",
        "    net_gpu = tf.keras.layers.Conv2D(32, 7)(random_image_gpu)\n",
        "    return tf.math.reduce_sum(net_gpu)\n",
        "  \n",
        "# We run each op once to warm up; see: https://stackoverflow.com/a/45067900\n",
        "cpu()\n",
        "gpu()\n",
        "\n",
        "# Run the op several times.\n",
        "print('Time (s) to convolve 32x7x7x3 filter over random 100x100x100x3 images '\n",
        "      '(batch x height x width x channel). Sum of ten runs.')\n",
        "print('CPU (s):')\n",
        "cpu_time = timeit.timeit('cpu()', number=10, setup=\"from __main__ import cpu\")\n",
        "print(cpu_time)\n",
        "print('GPU (s):')\n",
        "gpu_time = timeit.timeit('gpu()', number=10, setup=\"from __main__ import gpu\")\n",
        "print(gpu_time)\n",
        "print('GPU speedup over CPU: {}x'.format(int(cpu_time/gpu_time)))"
      ],
      "execution_count": null,
      "outputs": [
        {
          "output_type": "stream",
          "text": [
            "Time (s) to convolve 32x7x7x3 filter over random 100x100x100x3 images (batch x height x width x channel). Sum of ten runs.\n",
            "CPU (s):\n",
            "2.8656758609999997\n",
            "GPU (s):\n",
            "0.11020043700000315\n",
            "GPU speedup over CPU: 26x\n"
          ],
          "name": "stdout"
        }
      ]
    },
    {
      "cell_type": "markdown",
      "metadata": {
        "id": "jCUB1ecnozqL"
      },
      "source": [
        "##Results\n"
      ]
    },
    {
      "cell_type": "code",
      "metadata": {
        "id": "U6i-YIRHREqK",
        "colab": {
          "base_uri": "https://localhost:8080/"
        },
        "outputId": "ac68b230-8a79-4acd-a070-59da4c0526be"
      },
      "source": [
        "score = simple_model2.evaluate_generator(test_generator, verbose=1)\n",
        "print(\"Prediction accuracy on test data =\", score[1])"
      ],
      "execution_count": null,
      "outputs": [
        {
          "output_type": "stream",
          "text": [
            "407/407 [==============================] - 3s 9ms/step - loss: 0.2339 - accuracy: 0.9877\n",
            "Prediction accuracy on test data = 0.9877150058746338\n"
          ],
          "name": "stdout"
        }
      ]
    },
    {
      "cell_type": "code",
      "metadata": {
        "id": "IxebShtfDRfe"
      },
      "source": [
        "simple_model2.save(\"model_weights.hdf5\")"
      ],
      "execution_count": null,
      "outputs": []
    },
    {
      "cell_type": "code",
      "metadata": {
        "id": "HhEV1X2vUpRe",
        "colab": {
          "base_uri": "https://localhost:8080/",
          "height": 1000
        },
        "outputId": "7cd55176-5db5-42a7-8a94-42b3754dca7a"
      },
      "source": [
        "class_report_res_sm = showClassficationReport_Generator(simple_model2, test_generator, STEP_SIZE_TEST)"
      ],
      "execution_count": null,
      "outputs": [
        {
          "output_type": "stream",
          "text": [
            "100% (407 of 407) |######################| Elapsed Time: 0:00:15 Time:  0:00:15\n"
          ],
          "name": "stderr"
        },
        {
          "output_type": "display_data",
          "data": {
            "image/png": "[encoded data removed]",
            "text/plain": [
              "<Figure size 1440x1440 with 1 Axes>"
            ]
          },
          "metadata": {
            "tags": [],
            "needs_background": "light"
          }
        }
      ]
    },
    {
      "cell_type": "code",
      "metadata": {
        "id": "X4vxM4rDVIIF",
        "colab": {
          "base_uri": "https://localhost:8080/"
        },
        "outputId": "79632c8b-7a64-41c9-b243-f652e82a0cbc"
      },
      "source": [
        "print('Classification Report SimpleModel with Top1 value:')\n",
        "print(class_report_res_sm)"
      ],
      "execution_count": null,
      "outputs": [
        {
          "output_type": "stream",
          "text": [
            "Classification Report SimpleModel with Top1 value:\n",
            "              precision    recall  f1-score   support\n",
            "\n",
            "         655       1.00      1.00      1.00        57\n",
            "         277       1.00      1.00      1.00        46\n",
            "         654       1.00      1.00      1.00        39\n",
            "         172       0.90      1.00      0.95        38\n",
            "         280       1.00      1.00      1.00        38\n",
            "         272       1.00      0.97      0.99        38\n",
            "         295       1.00      1.00      1.00        33\n",
            "         634       1.00      1.00      1.00        28\n",
            "         170       1.00      1.00      1.00        25\n",
            "         169       1.00      1.00      1.00        20\n",
            "         281       0.93      1.00      0.97        14\n",
            "         656       1.00      1.00      1.00        10\n",
            "         653       1.00      1.00      1.00        10\n",
            "         584       1.00      1.00      1.00         6\n",
            "         585       1.00      0.20      0.33         5\n",
            "\n",
            "    accuracy                           0.99       407\n",
            "   macro avg       0.99      0.94      0.95       407\n",
            "weighted avg       0.99      0.99      0.98       407\n",
            "\n"
          ],
          "name": "stdout"
        }
      ]
    },
    {
      "cell_type": "code",
      "metadata": {
        "id": "rRTL9xC3VTXT",
        "colab": {
          "base_uri": "https://localhost:8080/",
          "height": 1000
        },
        "outputId": "02699bd2-43a7-4a22-ed1b-e514a540b98f"
      },
      "source": [
        "# Prediction\n",
        "from keras.preprocessing import *\n",
        "\n",
        "n = 2\n",
        "top_n = 3\n",
        "fig, axes = plt.subplots(n, 3, figsize=(18,7*n))\n",
        "\n",
        "for i in range(n):\n",
        "    random_route = random.choice(routes_name)\n",
        "    random_image = random.choice(os.listdir(os.path.join(images_dir, random_route)))\n",
        "    random_image_file = os.path.join(images_dir, random_route, random_image)\n",
        "\n",
        "    # Original image\n",
        "\n",
        "    test_image = image.load_img(random_image_file, target_size=(train_input_shape[0:2]))\n",
        "\n",
        "    # Predict artist\n",
        "    test_image = image.img_to_array(test_image)\n",
        "    test_image /= 255.\n",
        "    test_image = np.expand_dims(test_image, axis=0)\n",
        "\n",
        "    prediction = simple_model2.predict(test_image)\n",
        "    prediction_probability = np.amax(prediction)\n",
        "    prediction_idx = np.argmax(prediction)\n",
        "\n",
        "    labels = train_generator.class_indices\n",
        "    labels = dict((v,k) for k,v in labels.items())\n",
        "\n",
        "    title = \"Actual route = {}\\nPredicted route = {}\\nPrediction probability = {:.2f} %\" \\\n",
        "                .format(random_route, labels[prediction_idx],\n",
        "                        prediction_probability*100)\n",
        "    axes[i][1].text(0,0.5,title,fontsize=15,family='serif')\n",
        "    axes[i][1].axis('off')\n",
        "\n",
        "\n",
        "    axes[i][0].imshow(plt.imread(random_image_file))\n",
        "\n",
        "\n",
        "    axes[i][0].axis('off')\n",
        "\n",
        "    top = list(enumerate(prediction[0]))\n",
        "    top.sort(key= lambda x: x[1],reverse=True)\n",
        "    probas = [p[1] for p in top[:top_n]]\n",
        "    names = [labels[p[0] ]for p in top[:top_n]]\n",
        "\n",
        "    x = np.arange(top_n)\n",
        "    axes[i][2].bar(x,probas)\n",
        "    axes[i][2].set_xticks(x)\n",
        "    axes[i][2].set_xticklabels(names,rotation=15)\n",
        "plt.savefig(\"abc.png\")\n",
        "plt.show()"
      ],
      "execution_count": null,
      "outputs": [
        {
          "output_type": "error",
          "ename": "NameError",
          "evalue": "ignored",
          "traceback": [
            "\u001b[0;31m---------------------------------------------------------------------------\u001b[0m",
            "\u001b[0;31mNameError\u001b[0m                                 Traceback (most recent call last)",
            "\u001b[0;32m<ipython-input-8-0d7b1694f42e>\u001b[0m in \u001b[0;36m<module>\u001b[0;34m()\u001b[0m\n\u001b[1;32m     13\u001b[0m     \u001b[0;31m# Original image\u001b[0m\u001b[0;34m\u001b[0m\u001b[0;34m\u001b[0m\u001b[0;34m\u001b[0m\u001b[0m\n\u001b[1;32m     14\u001b[0m \u001b[0;34m\u001b[0m\u001b[0m\n\u001b[0;32m---> 15\u001b[0;31m     \u001b[0mtest_image\u001b[0m \u001b[0;34m=\u001b[0m \u001b[0mimage\u001b[0m\u001b[0;34m.\u001b[0m\u001b[0mload_img\u001b[0m\u001b[0;34m(\u001b[0m\u001b[0mrandom_image_file\u001b[0m\u001b[0;34m,\u001b[0m \u001b[0mtarget_size\u001b[0m\u001b[0;34m=\u001b[0m\u001b[0;34m(\u001b[0m\u001b[0mtrain_input_shape\u001b[0m\u001b[0;34m[\u001b[0m\u001b[0;36m0\u001b[0m\u001b[0;34m:\u001b[0m\u001b[0;36m2\u001b[0m\u001b[0;34m]\u001b[0m\u001b[0;34m)\u001b[0m\u001b[0;34m)\u001b[0m\u001b[0;34m\u001b[0m\u001b[0;34m\u001b[0m\u001b[0m\n\u001b[0m\u001b[1;32m     16\u001b[0m \u001b[0;34m\u001b[0m\u001b[0m\n\u001b[1;32m     17\u001b[0m     \u001b[0;31m# Predict artist\u001b[0m\u001b[0;34m\u001b[0m\u001b[0;34m\u001b[0m\u001b[0;34m\u001b[0m\u001b[0m\n",
            "\u001b[0;31mNameError\u001b[0m: name 'train_input_shape' is not defined"
          ]
        },
        {
          "output_type": "display_data",
          "data": {
            "image/png": "[encoded data removed]",
            "text/plain": [
              "<Figure size 1296x1008 with 6 Axes>"
            ]
          },
          "metadata": {
            "tags": [],
            "needs_background": "light"
          }
        }
      ]
    }
  ]
}